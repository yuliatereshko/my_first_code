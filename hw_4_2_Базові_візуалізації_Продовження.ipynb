{
  "nbformat": 4,
  "nbformat_minor": 0,
  "metadata": {
    "colab": {
      "provenance": []
    },
    "kernelspec": {
      "name": "python3",
      "display_name": "Python 3"
    },
    "language_info": {
      "name": "python"
    }
  },
  "cells": [
    {
      "cell_type": "markdown",
      "source": [
        "# Домашнє завдання №1 до модуля 4: Базові візуалізації даних. Продовження"
      ],
      "metadata": {
        "id": "4-pms5pP-SQy"
      }
    },
    {
      "cell_type": "markdown",
      "source": [
        "В цьому домашньому завданні потренуємо створення кількох панелей на одній фігурі для відпрацювання створення складніших візуалізацій з Matplotlib, а також підписи до графіків і створення легенди.\n",
        "\n",
        "### Завдання: Візуалізація функцій експоненти, логарифму, і модифікованої синусоїди\n",
        "\n",
        "**Мета:** Створити фігуру з трьома панелями: на першій показати графік експоненціальної функції, на другій - логарифмічну функцію, а на третій - модифіковану синусоїду.\n",
        "\n",
        "1. Імпортуйте необхідні бібліотеки:\n"
      ],
      "metadata": {
        "id": "AV2fwl7Z6Ena"
      }
    },
    {
      "cell_type": "code",
      "source": [],
      "metadata": {
        "id": "Qf8tUcC-6T-i"
      },
      "execution_count": null,
      "outputs": []
    },
    {
      "cell_type": "markdown",
      "source": [
        "\n",
        "2. Використовуючи фукнціонал `numpy` створіть масив `x` з 400 точок в діапазоні між -2 та 2 і масив `x_positive` в діапазоні між 0.1 і 2 також з 400 точок. Другий масив в нас буде для логарифмічної функції, перший з більш широким діапазоном - для інших функцій.\n"
      ],
      "metadata": {
        "id": "DELx1xGe6Rza"
      }
    },
    {
      "cell_type": "code",
      "source": [],
      "metadata": {
        "id": "LQR8_YaB6s-Z"
      },
      "execution_count": null,
      "outputs": []
    },
    {
      "cell_type": "markdown",
      "source": [
        "\n",
        "3. Тут маємо кілька кроків.\n",
        "\n",
        "  3.1. Ініціалізуйте фігуру Matplotlib з розміром, достатнім для трьох панелей (рекомендую спробувати експериментально виявити добрий розмір).   \n",
        "  3.2. На першій панелі візуалізуйте експоненціальну функцію `y = e^x`. Використовуйте відповідну змінну `x`.  \n",
        "  3.2. На другій панелі покажіть логарифмічну функцію `y = ln(x)`.  \n",
        "  3.4. На третій панелі покажіть модифіковану синусоїду `y = sin(x) + x`.  \n",
        "\n",
        "  Відобразіть графік.\n"
      ],
      "metadata": {
        "id": "4648a0pE6XAB"
      }
    },
    {
      "cell_type": "code",
      "source": [],
      "metadata": {
        "id": "_emuphEZ7eLr"
      },
      "execution_count": null,
      "outputs": []
    },
    {
      "cell_type": "markdown",
      "source": [
        "4. Модифікація і довершення графіку.  \n",
        "  4.1. Для кожної панелі встановіть назву графіка та підписи до осей х та у (можна так і назвати `x` та формула функції).  \n",
        "  4.2. Використайте різні кольори для кожного графіка.  \n"
      ],
      "metadata": {
        "id": "PEhVKl1t7cRm"
      }
    },
    {
      "cell_type": "code",
      "source": [],
      "metadata": {
        "id": "jTJ6B_zA7not"
      },
      "execution_count": null,
      "outputs": []
    },
    {
      "cell_type": "markdown",
      "source": [
        "5. А тепер зобразіть ті самі 3 трафіки тих самих кольорів тільки на одному графіку. Визначіть назву кожної з ліній для легенди та обовʼязково відобразіть легенду."
      ],
      "metadata": {
        "id": "Y6epQL0b8MCS"
      }
    },
    {
      "cell_type": "code",
      "source": [],
      "metadata": {
        "id": "bwf_O19c8a5P"
      },
      "execution_count": null,
      "outputs": []
    },
    {
      "cell_type": "markdown",
      "source": [
        "6. Напишіть код аби зберегти графік з попереднього завдання у файл з назвою `my_figure.png` і виконайте код нижче аби зчитати фігуру з файлу назад в ноутбук аби переконатись, що графік зберігся як треба."
      ],
      "metadata": {
        "id": "KmcWnYnk9hUI"
      }
    },
    {
      "cell_type": "code",
      "source": [],
      "metadata": {
        "id": "AOEa9fqA82gr"
      },
      "execution_count": null,
      "outputs": []
    },
    {
      "cell_type": "code",
      "source": [
        "from IPython.display import Image\n",
        "Image('my_figure.png')"
      ],
      "metadata": {
        "id": "2jiDcbW99NV8"
      },
      "execution_count": null,
      "outputs": []
    }
  ]
}