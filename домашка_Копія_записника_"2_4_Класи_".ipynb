{
  "cells": [
    {
      "cell_type": "markdown",
      "id": "1561554f",
      "metadata": {
        "id": "1561554f"
      },
      "source": [
        "# Домашнє завдання до теми \"Classes\"\n",
        "В цьому домашньому завданні в деяких задачах є частини коду, та в кожному завданні описано, що з ними треба зробити, часто - просто виконати після того, як ви напишете частину, якої поки не вистачає. Пишіть, будь ласка, код, який реалізує рішення кожного завдання, безпосереньо під формулюванням завдання, створюючи нові клітинки. Можете створювати скільки завгодно клітинок для виконання одного завдання."
      ]
    },
    {
      "cell_type": "markdown",
      "id": "5f983749",
      "metadata": {
        "id": "5f983749"
      },
      "source": [
        "1.Нижче є створений клас \"Shop\". Це клас для визначення магазинів компанії \"АВС\". У кожного магазина є локація і прибуток. Створіть три магазини в трьох окремих змінних:  \n",
        "- один з локацією \"Київ\" та прибутком 5500,   \n",
        "- другий - з локацією \"Львів\" та прибутком 3000,  \n",
        "- третій - з локацією \"Полтава\" та прибутком 2500  \n",
        "\n",
        "Порахуйте після цього суму прибутків трьох магазинів використовуючи інформацію про створені магазини.\n",
        "Виведіть сумарний прибуток на екран."
      ]
    },
    {
      "cell_type": "code",
      "execution_count": 133,
      "id": "84cb2eb2",
      "metadata": {
        "ExecuteTime": {
          "end_time": "2022-10-22T10:05:31.337430Z",
          "start_time": "2022-10-22T10:05:31.321277Z"
        },
        "id": "84cb2eb2"
      },
      "outputs": [],
      "source": [
        "class Shop:\n",
        "    company = 'ABC'\n",
        "\n",
        "    def __init__(self, location, profit):\n",
        "        self.location = location\n",
        "        self.profit = profit"
      ]
    },
    {
      "cell_type": "code",
      "execution_count": 134,
      "id": "170727c8",
      "metadata": {
        "id": "170727c8"
      },
      "outputs": [],
      "source": [
        "Shop_1 = Shop(\"Київ\", 5500)\n",
        "Shop_2 = Shop(\"Львів\", 3000)\n",
        "Shop_3 = Shop(\"Полтава\", 2500)"
      ]
    },
    {
      "cell_type": "markdown",
      "source": [
        "виведення суми прибутку звичайне:"
      ],
      "metadata": {
        "id": "C-_VlQzi-H0u"
      },
      "id": "C-_VlQzi-H0u"
    },
    {
      "cell_type": "code",
      "source": [
        "total_profit = Shop_1.profit + Shop_2.profit + Shop_3.profit\n",
        "print(\"Сумарний прибуток:\", total_profit)"
      ],
      "metadata": {
        "colab": {
          "base_uri": "https://localhost:8080/"
        },
        "id": "3y4mGKwE8sSd",
        "outputId": "ac0bd0a3-1323-4a60-ceff-cf2cdbb53aae"
      },
      "id": "3y4mGKwE8sSd",
      "execution_count": 135,
      "outputs": [
        {
          "output_type": "stream",
          "name": "stdout",
          "text": [
            "Сумарний прибуток: 11000\n"
          ]
        }
      ]
    },
    {
      "cell_type": "markdown",
      "source": [
        "але, якщо кількість магазинів буде великою, краще рахувати прибуток за допомогою циклу:"
      ],
      "metadata": {
        "id": "f8vk6yGI-Xvd"
      },
      "id": "f8vk6yGI-Xvd"
    },
    {
      "cell_type": "code",
      "source": [
        "shops = [Shop_1, Shop_2, Shop_3]\n",
        "total_profit = 0\n",
        "for shop in shops:\n",
        "    total_profit += shop.profit\n",
        "print(\"Сумарний прибуток:\", total_profit)"
      ],
      "metadata": {
        "colab": {
          "base_uri": "https://localhost:8080/"
        },
        "id": "OlmNW_uZ9yyd",
        "outputId": "ad83d28e-babc-4f54-f099-0ff24cf7a3ac"
      },
      "id": "OlmNW_uZ9yyd",
      "execution_count": 136,
      "outputs": [
        {
          "output_type": "stream",
          "name": "stdout",
          "text": [
            "Сумарний прибуток: 11000\n"
          ]
        }
      ]
    },
    {
      "cell_type": "markdown",
      "id": "3feaa824",
      "metadata": {
        "ExecuteTime": {
          "end_time": "2022-10-22T10:12:49.668479Z",
          "start_time": "2022-10-22T10:12:49.636219Z"
        },
        "id": "3feaa824"
      },
      "source": [
        "2.Створіть клас `Employee`, який при ініціалізації представника класу визначає поля \"Прізвище\", \"Місяць народження\" та \"Зарплата\" та запустіть код нижче."
      ]
    },
    {
      "cell_type": "code",
      "execution_count": 137,
      "id": "5850a071",
      "metadata": {
        "id": "5850a071"
      },
      "outputs": [],
      "source": [
        "class Employee:\n",
        "    def __init__(self, Surname, birth_month, salary):\n",
        "        self.Surname = Surname\n",
        "        self.birth_month = birth_month\n",
        "        self.salary = salary"
      ]
    },
    {
      "cell_type": "code",
      "execution_count": 138,
      "id": "b0fcc9f2",
      "metadata": {
        "ExecuteTime": {
          "end_time": "2022-10-22T10:17:27.305480Z",
          "start_time": "2022-10-22T10:17:27.302072Z"
        },
        "id": "b0fcc9f2"
      },
      "outputs": [],
      "source": [
        "emp_1 = Employee('Чорненко', 'жовтень', 2000)\n",
        "emp_2 = Employee('Біленко', 'січень', 3000)\n",
        "emp_3 = Employee('Жовтенко', 'березень', 3400)"
      ]
    },
    {
      "cell_type": "markdown",
      "id": "d6d285b8",
      "metadata": {
        "ExecuteTime": {
          "end_time": "2022-10-22T10:17:28.531508Z",
          "start_time": "2022-10-22T10:17:28.526117Z"
        },
        "id": "d6d285b8"
      },
      "source": [
        "3.До класу `Employee` додайте метод `salutate`, який вітатиме з **місяцем** народження. Аби додати метод - скопіюйте просто код з визначенням класа з попереднього завдання і додайте туди новий метод.  \n",
        "Метод має приймати на вхід заданий місяць і\n",
        "- якщо цей місяць співпадає з місяцем народження співробітника, виводить `Вітаємо, пане <прізвище співробітника>! Зараз місяць <назва місяця> у Вас День народження! Будьте здорові!`. Для формування привітання використайте інтерполяцію рядків.\n",
        "- якщо місяць не співпадає з місяцем народження співробітника, метод нічого не вертає.  \n",
        "\n",
        "Коли зробите завдання - запустіть код нижче."
      ]
    },
    {
      "cell_type": "code",
      "source": [
        "class Employee:\n",
        "    def __init__(self, Surname, birth_month, salary):\n",
        "        self.Surname = Surname\n",
        "        self.birth_month = birth_month\n",
        "        self.salary = salary\n",
        "\n",
        "    def salutate(self, current_month):\n",
        "        if current_month == self.birth_month:\n",
        "            print(f\"Вітаємо, пане {self.Surname}! Зараз місяць {current_month}, у Вас День народження! Будьте здорові!\")"
      ],
      "metadata": {
        "id": "5ga7med1GN7-"
      },
      "id": "5ga7med1GN7-",
      "execution_count": 139,
      "outputs": []
    },
    {
      "cell_type": "code",
      "execution_count": 140,
      "id": "056e127e",
      "metadata": {
        "ExecuteTime": {
          "end_time": "2022-10-22T10:26:35.300805Z",
          "start_time": "2022-10-22T10:26:35.294501Z"
        },
        "id": "056e127e",
        "colab": {
          "base_uri": "https://localhost:8080/"
        },
        "outputId": "c0adb8a5-0491-47e3-ccd1-76adf10b8f65"
      },
      "outputs": [
        {
          "output_type": "stream",
          "name": "stdout",
          "text": [
            "Вітаємо, пане Біленко! Зараз місяць січень, у Вас День народження! Будьте здорові!\n"
          ]
        }
      ],
      "source": [
        "emp_1 = Employee('Чорненко', 'жовтень', 2000)\n",
        "emp_2 = Employee('Біленко', 'січень', 3000)\n",
        "emp_3 = Employee('Жовтенко', 'березень', 3400)\n",
        "\n",
        "emp_1.salutate('грудень')\n",
        "emp_2.salutate('січень')\n",
        "emp_3.salutate('травень')"
      ]
    },
    {
      "cell_type": "markdown",
      "id": "ca02deba",
      "metadata": {
        "id": "ca02deba"
      },
      "source": [
        "4.Створіть клас, який наслідує `Employee` та називається `BossEmployee`. У цього класа при ініціалізації є всі ті самі поля, що і в Employee, але також є поле `n_subordinates`, тобто \"кількість підлеглих\".\n",
        "\n",
        "Додайте новоствореному класу метод `add_subordinates`, який додаватиме передану в метод кількість підлеглих цьому босу (тобто буде оновлювати поле класу `n_subordinates`) та буде виводити повідомлення `Вітаємо, пане <прізвище співробітника>! У Вас <введене в метод число> нових співробітників!`. Перевірте, аби кількість нових підлеглих була цілою, якщо це не так, виведіть повідомлення: `Число <введене в метод число, округлене до трьох чисел після коми> не може бути кількістю підлеглих.`.\n",
        "\n",
        "Для формування повідомлень використайте метод форматування рядків, котрий був другим в лекції (з `format` частиною).\n",
        "Коли зробите завдання - запустіть код нижче."
      ]
    },
    {
      "cell_type": "code",
      "source": [
        "class BossEmployee(Employee):\n",
        "    def __init__(self, Surname, birth_month, salary, n_subordinates):\n",
        "        super().__init__(Surname, birth_month, salary)\n",
        "        self.n_subordinates = n_subordinates\n",
        "\n",
        "    def add_subordinates(self, n_subordinates):\n",
        "        if isinstance(n_subordinates, int):\n",
        "            self.n_subordinates += n_subordinates\n",
        "            print('Вітаємо, пане {0}! У Вас {1} нових співробітників!'.format(self.Surname, n_subordinates))\n",
        "        else:\n",
        "            print(\"Число {} не може бути кількістю підлеглих.\".format(round(n_subordinates, 3)))"
      ],
      "metadata": {
        "id": "Gs-C2ZTgKfti"
      },
      "id": "Gs-C2ZTgKfti",
      "execution_count": 141,
      "outputs": []
    },
    {
      "cell_type": "code",
      "execution_count": 142,
      "id": "b6e5e6c0",
      "metadata": {
        "ExecuteTime": {
          "end_time": "2022-10-22T10:44:43.938323Z",
          "start_time": "2022-10-22T10:44:43.932171Z"
        },
        "id": "b6e5e6c0",
        "colab": {
          "base_uri": "https://localhost:8080/"
        },
        "outputId": "663e744f-3e67-4355-c690-8f37e7a58580"
      },
      "outputs": [
        {
          "output_type": "stream",
          "name": "stdout",
          "text": [
            "Вітаємо, пане Босенко! У Вас 5 нових співробітників!\n",
            "Число 4.788 не може бути кількістю підлеглих.\n",
            "Вітаємо, пане Босенко! У Вас 4 нових співробітників!\n"
          ]
        },
        {
          "output_type": "execute_result",
          "data": {
            "text/plain": [
              "12"
            ]
          },
          "metadata": {},
          "execution_count": 142
        }
      ],
      "source": [
        "emp_4 = BossEmployee('Босенко', 'липень', 5500, 3)\n",
        "emp_4.add_subordinates(5)\n",
        "emp_4.add_subordinates(4.78764174)\n",
        "emp_4.add_subordinates(4)\n",
        "emp_4.n_subordinates"
      ]
    },
    {
      "cell_type": "markdown",
      "id": "c3e0bd00",
      "metadata": {
        "id": "c3e0bd00"
      },
      "source": [
        "Очікуваний результат виконання команд вище:\n",
        "```\n",
        "Вітаємо, пане Босенко! У Вас 5 нових співробітників!     \n",
        "Число 4.788 не може бути кількістю підлеглих.\n",
        "Вітаємо, пане Босенко! У Вас 4 нових співробітників!\n",
        "12\n",
        "```"
      ]
    },
    {
      "cell_type": "markdown",
      "id": "441e5d09",
      "metadata": {
        "id": "441e5d09"
      },
      "source": [
        "# Ураа!! Ви завершили ВСІ завдання ДРУГОГО ТЕХНІЧНОГО МОДУЛЮ!!! З кожним ДЗ Ви стаєте з Python все ближче і ближче. Ваші відносини зараз - \"він поставив вогник на вашу сторис\" 😉\n",
        "\n",
        "В кінці курсу будете наче пити з ним просеко на кухні і обговорювати останні мемчики.  \n",
        "\n",
        "Далі - ще цікавіше! 🚀🚀🚀"
      ]
    }
  ],
  "metadata": {
    "kernelspec": {
      "display_name": "Python 3 (ipykernel)",
      "language": "python",
      "name": "python3"
    },
    "language_info": {
      "codemirror_mode": {
        "name": "ipython",
        "version": 3
      },
      "file_extension": ".py",
      "mimetype": "text/x-python",
      "name": "python",
      "nbconvert_exporter": "python",
      "pygments_lexer": "ipython3",
      "version": "3.10.4"
    },
    "toc": {
      "base_numbering": 1,
      "nav_menu": {},
      "number_sections": true,
      "sideBar": true,
      "skip_h1_title": false,
      "title_cell": "Table of Contents",
      "title_sidebar": "Contents",
      "toc_cell": false,
      "toc_position": {},
      "toc_section_display": true,
      "toc_window_display": false
    },
    "colab": {
      "provenance": []
    }
  },
  "nbformat": 4,
  "nbformat_minor": 5
}