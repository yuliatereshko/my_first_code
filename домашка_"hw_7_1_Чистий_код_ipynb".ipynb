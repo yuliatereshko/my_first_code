{
  "cells": [
    {
      "cell_type": "markdown",
      "id": "aed503f1",
      "metadata": {
        "ExecuteTime": {
          "end_time": "2023-07-27T20:14:32.871852Z",
          "start_time": "2023-07-27T20:14:31.036121Z"
        },
        "id": "aed503f1"
      },
      "source": [
        "У завданнях 1-4. Вам наданий простий код на Python, який не відповідає вказівкам PEP8. Ваше завдання — відредагувати код так, аби він відповідав PEP8. Напишіть після редагуванню коду, дотримання яких правил з pep8 ви досягли в відредагованій версі, наприклад\n",
        "```\n",
        "- додала пробіли навколо бінарного оператора\n",
        "- додала два порожні рядки між визначеннями функцій\n",
        "і тд\n",
        "```\n",
        "Також можна зазанчити використані правила коментарями по коду, а не окремим повідомленням.\n",
        "\n",
        "Відредагований код має виконувати весь той самий функціонал, але бути написаний відповідно до вимог до гарного коду на Python! Не забудьте запустити відредагований код, він має бути робочим."
      ]
    },
    {
      "cell_type": "markdown",
      "id": "e7fea147",
      "metadata": {
        "id": "e7fea147"
      },
      "source": [
        "Завдання 1."
      ]
    },
    {
      "cell_type": "code",
      "execution_count": 1,
      "id": "f63d84d7",
      "metadata": {
        "ExecuteTime": {
          "end_time": "2023-07-29T17:02:37.075783Z",
          "start_time": "2023-07-29T17:02:37.035259Z"
        },
        "id": "f63d84d7",
        "colab": {
          "base_uri": "https://localhost:8080/",
          "height": 69
        },
        "outputId": "5c7e17c5-b8f2-4766-9f3a-180eb8715e26"
      },
      "outputs": [
        {
          "output_type": "stream",
          "name": "stdout",
          "text": [
            "Hello, John\n"
          ]
        },
        {
          "output_type": "display_data",
          "data": {
            "text/plain": [
              "None"
            ]
          },
          "metadata": {}
        },
        {
          "output_type": "display_data",
          "data": {
            "text/plain": [
              "8"
            ]
          },
          "metadata": {}
        }
      ],
      "source": [
        "def greet(name):print(f\"Hello, {name}\")\n",
        "def add(n1,n2):return n1+n2\n",
        "\n",
        "x = 5;y = 3\n",
        "display(greet(\"John\"),add(x,y))\n"
      ]
    },
    {
      "cell_type": "code",
      "execution_count": 20,
      "id": "41b7e672",
      "metadata": {
        "id": "41b7e672",
        "colab": {
          "base_uri": "https://localhost:8080/",
          "height": 69
        },
        "outputId": "2c9a67f1-3dd0-40e2-8995-c6e473456f2c"
      },
      "outputs": [
        {
          "output_type": "stream",
          "name": "stdout",
          "text": [
            "Hello, John\n"
          ]
        },
        {
          "output_type": "display_data",
          "data": {
            "text/plain": [
              "None"
            ]
          },
          "metadata": {}
        },
        {
          "output_type": "display_data",
          "data": {
            "text/plain": [
              "8"
            ]
          },
          "metadata": {}
        }
      ],
      "source": [
        "def greet(name):\n",
        "    print(f\"Hello, {name}\") #поділила 1 рядок на 2 відповідно до правил\n",
        "\n",
        "\n",
        "def add(n1, n2): #додала пробіл та 2 порожні рядки між визначенням функцій\n",
        "    return n1 + n2 #поділила 1 рядок на 2, додала пробіл\n",
        "\n",
        "\n",
        "x = 5  #додала пробіли при визначенні змінних, визначила їх в окремих рядках\n",
        "y = 3\n",
        "\n",
        "display(greet(\"John\"), add(x, y)) # додала пробіл\n",
        "                #додано порожній рядок в кінці"
      ]
    },
    {
      "cell_type": "markdown",
      "id": "cea88baf",
      "metadata": {
        "id": "cea88baf"
      },
      "source": [
        "Завдання 2."
      ]
    },
    {
      "cell_type": "code",
      "execution_count": 5,
      "id": "dfb6d2b5",
      "metadata": {
        "ExecuteTime": {
          "end_time": "2023-07-29T17:05:49.706098Z",
          "start_time": "2023-07-29T17:05:49.688255Z"
        },
        "id": "dfb6d2b5",
        "colab": {
          "base_uri": "https://localhost:8080/"
        },
        "outputId": "0de577b9-3508-4cf4-ceb1-f356ef7de469"
      },
      "outputs": [
        {
          "output_type": "stream",
          "name": "stdout",
          "text": [
            "Area: 78.53981633974483 Circumference: 31.41592653589793\n"
          ]
        }
      ],
      "source": [
        "from math import *\n",
        "def calcArea(r):return pi*r**2\n",
        "def calcCircumference(r):return 2*pi*r\n",
        "\n",
        "radius=5\n",
        "print(\"Area:\",calcArea(radius),\"Circumference:\",calcCircumference(radius))"
      ]
    },
    {
      "cell_type": "code",
      "execution_count": 21,
      "id": "df263672",
      "metadata": {
        "id": "df263672",
        "colab": {
          "base_uri": "https://localhost:8080/"
        },
        "outputId": "ac9756e5-2585-4e8d-a2ab-bf74135dd40a"
      },
      "outputs": [
        {
          "output_type": "stream",
          "name": "stdout",
          "text": [
            "Area: 78.53981633974483 Circumference: 31.41592653589793\n"
          ]
        }
      ],
      "source": [
        "from math import pi  # Імпорт тільки потрібної змінної pi з бібліотеки math, оскільки за стандартом не потрібно імпортувати те, що не будемо використовувати\n",
        "\n",
        "def calc_area(r):\n",
        "    return pi * r ** 2 #визначення функції у двох рядках, додані пробіли в формулі\n",
        "\n",
        "\n",
        "def calc_circumference(r):\n",
        "    return 2 * pi * r #визначення функції у двох рядках, додані пробіли в формулі, також додано 2 рядки між визначенням двох функцій\n",
        "\n",
        "radius = 5\n",
        "\n",
        "print(\"Area:\", calc_area(radius),\n",
        "      \"Circumference:\", calc_circumference(radius)) #додані пробіли між різними значеннями, 1 рядок поділено на 2, щоб скоротити його довжину\n",
        "              #додано порожній рядок в кінці"
      ]
    },
    {
      "cell_type": "markdown",
      "id": "1fd691b7",
      "metadata": {
        "id": "1fd691b7"
      },
      "source": [
        "Завдання 3."
      ]
    },
    {
      "cell_type": "code",
      "execution_count": 18,
      "id": "1d5acb2d",
      "metadata": {
        "ExecuteTime": {
          "end_time": "2023-07-29T17:06:18.612622Z",
          "start_time": "2023-07-29T17:06:18.598477Z"
        },
        "id": "1d5acb2d"
      },
      "outputs": [],
      "source": [
        "class animal: pass\n",
        "class dog(animal):\n",
        "    def __init__(self,name):\n",
        "        self.name=name\n",
        "        self.type='Dog'"
      ]
    },
    {
      "cell_type": "code",
      "execution_count": 22,
      "id": "0d4b2b8a",
      "metadata": {
        "id": "0d4b2b8a"
      },
      "outputs": [],
      "source": [
        "class Animal:\n",
        "    pass  # запис у 2 рядки\n",
        "\n",
        "class Dog(Animal): #додано 1 рядок пропуску для кращої читабельності\n",
        "\n",
        "    def __init__(self, name): #додано 1 рядок пропуску для кращої читабельності, доданий пробіл між параметрами функції\n",
        "        self.name = name  #додано пробіл при присвоєнні значення параметру name атрибуту об'єкта\n",
        "        self.type = 'Dog'  # додано пробіл при присвоєнні типу \"Dog\" атрибуту type\n",
        "                              #додано порожній рядок в кінці"
      ]
    },
    {
      "cell_type": "markdown",
      "id": "7d1d4f5d",
      "metadata": {
        "id": "7d1d4f5d"
      },
      "source": [
        "Завдання 4."
      ]
    },
    {
      "cell_type": "code",
      "execution_count": 23,
      "id": "a91c1cc4",
      "metadata": {
        "ExecuteTime": {
          "end_time": "2023-07-29T17:06:47.180263Z",
          "start_time": "2023-07-29T17:06:47.173617Z"
        },
        "id": "a91c1cc4",
        "colab": {
          "base_uri": "https://localhost:8080/"
        },
        "outputId": "44fe9c7b-c559-4686-b0d0-67a0dd3aa2b1"
      },
      "outputs": [
        {
          "output_type": "stream",
          "name": "stdout",
          "text": [
            "1\n",
            "2\n",
            "3\n",
            "4\n",
            "5\n"
          ]
        }
      ],
      "source": [
        "list=[1,2,3,4,5]\n",
        "for i in range(len(list)):print(list[i])"
      ]
    },
    {
      "cell_type": "code",
      "execution_count": 26,
      "id": "c0f9541a",
      "metadata": {
        "id": "c0f9541a",
        "colab": {
          "base_uri": "https://localhost:8080/"
        },
        "outputId": "23a6f116-dead-4e7d-a1df-7b17f73f6505"
      },
      "outputs": [
        {
          "output_type": "stream",
          "name": "stdout",
          "text": [
            "1\n",
            "2\n",
            "3\n",
            "4\n",
            "5\n"
          ]
        }
      ],
      "source": [
        "list = [1, 2, 3, 4, 5]  # додала пробіли при визначенні списку та всередині нього\n",
        "\n",
        "for i in range(len(list)):\n",
        "    print(list[i])  # Додала відступ для тіла циклу та цикл записаний у двох рядках\n",
        "                  #додано порожній рядок в кінці"
      ]
    },
    {
      "cell_type": "markdown",
      "id": "8b0487e6",
      "metadata": {
        "id": "8b0487e6"
      },
      "source": [
        "5.У вас є DataFrame df, що представляє результати тестів студентів з математики, англійської мови та історії. Поточний код обчислює середній бал для кожного студента шляхом ітерації за рядками DataFrame за допомогою iterrows().\n",
        "\n",
        "Ваше завдання полягає в тому, щоб змінити код так, аби уникнути використання iterrows() і замість цього застосувати більш ефективне та читабельне рішення відповідно до правил, озвучених у лекції. Рефакторинг треба зробити лише частині, де рахуються середні, імпорт і визначення датафрейму лишаємо без змін."
      ]
    },
    {
      "cell_type": "code",
      "execution_count": 81,
      "id": "5b3cc648",
      "metadata": {
        "ExecuteTime": {
          "end_time": "2023-07-29T17:15:55.926882Z",
          "start_time": "2023-07-29T17:15:55.686415Z"
        },
        "id": "5b3cc648"
      },
      "outputs": [],
      "source": [
        "import pandas as pd\n",
        "\n",
        "df = pd.DataFrame({\n",
        "    'student': ['Alice', 'Bob', 'Charlie', 'David'],\n",
        "    'math_score': [89, 94, 77, 85],\n",
        "    'english_score': [92, 88, 79, 85],\n",
        "    'history_score': [84, 92, 81, 89]\n",
        "})"
      ]
    },
    {
      "cell_type": "code",
      "execution_count": 86,
      "id": "f5858889",
      "metadata": {
        "ExecuteTime": {
          "end_time": "2023-07-29T17:15:55.926882Z",
          "start_time": "2023-07-29T17:15:55.686415Z"
        },
        "id": "f5858889",
        "colab": {
          "base_uri": "https://localhost:8080/",
          "height": 209
        },
        "outputId": "dc16d220-aecf-4e44-8200-b60e9e1dbcfb"
      },
      "outputs": [
        {
          "output_type": "execute_result",
          "data": {
            "text/plain": [
              "0    88.333333\n",
              "1    91.333333\n",
              "2    79.000000\n",
              "3    86.333333\n",
              "Name: average_score1, dtype: float64"
            ],
            "text/html": [
              "<div>\n",
              "<style scoped>\n",
              "    .dataframe tbody tr th:only-of-type {\n",
              "        vertical-align: middle;\n",
              "    }\n",
              "\n",
              "    .dataframe tbody tr th {\n",
              "        vertical-align: top;\n",
              "    }\n",
              "\n",
              "    .dataframe thead th {\n",
              "        text-align: right;\n",
              "    }\n",
              "</style>\n",
              "<table border=\"1\" class=\"dataframe\">\n",
              "  <thead>\n",
              "    <tr style=\"text-align: right;\">\n",
              "      <th></th>\n",
              "      <th>average_score1</th>\n",
              "    </tr>\n",
              "  </thead>\n",
              "  <tbody>\n",
              "    <tr>\n",
              "      <th>0</th>\n",
              "      <td>88.333333</td>\n",
              "    </tr>\n",
              "    <tr>\n",
              "      <th>1</th>\n",
              "      <td>91.333333</td>\n",
              "    </tr>\n",
              "    <tr>\n",
              "      <th>2</th>\n",
              "      <td>79.000000</td>\n",
              "    </tr>\n",
              "    <tr>\n",
              "      <th>3</th>\n",
              "      <td>86.333333</td>\n",
              "    </tr>\n",
              "  </tbody>\n",
              "</table>\n",
              "</div><br><label><b>dtype:</b> float64</label>"
            ]
          },
          "metadata": {},
          "execution_count": 86
        }
      ],
      "source": [
        "averages = []\n",
        "for _, row in df.iterrows():\n",
        "    averages.append((row['math_score'] + row['english_score'] + row['history_score']) / 3)\n",
        "\n",
        "df['average_score1'] = averages\n",
        "df['average_score1'] #звірка результату"
      ]
    },
    {
      "cell_type": "code",
      "execution_count": 88,
      "id": "74cea4fc",
      "metadata": {
        "id": "74cea4fc",
        "colab": {
          "base_uri": "https://localhost:8080/",
          "height": 209
        },
        "outputId": "19694bae-724a-4877-e3f2-44d1787ab876"
      },
      "outputs": [
        {
          "output_type": "execute_result",
          "data": {
            "text/plain": [
              "0    88.333333\n",
              "1    91.333333\n",
              "2    79.000000\n",
              "3    86.333333\n",
              "Name: average_score2, dtype: float64"
            ],
            "text/html": [
              "<div>\n",
              "<style scoped>\n",
              "    .dataframe tbody tr th:only-of-type {\n",
              "        vertical-align: middle;\n",
              "    }\n",
              "\n",
              "    .dataframe tbody tr th {\n",
              "        vertical-align: top;\n",
              "    }\n",
              "\n",
              "    .dataframe thead th {\n",
              "        text-align: right;\n",
              "    }\n",
              "</style>\n",
              "<table border=\"1\" class=\"dataframe\">\n",
              "  <thead>\n",
              "    <tr style=\"text-align: right;\">\n",
              "      <th></th>\n",
              "      <th>average_score2</th>\n",
              "    </tr>\n",
              "  </thead>\n",
              "  <tbody>\n",
              "    <tr>\n",
              "      <th>0</th>\n",
              "      <td>88.333333</td>\n",
              "    </tr>\n",
              "    <tr>\n",
              "      <th>1</th>\n",
              "      <td>91.333333</td>\n",
              "    </tr>\n",
              "    <tr>\n",
              "      <th>2</th>\n",
              "      <td>79.000000</td>\n",
              "    </tr>\n",
              "    <tr>\n",
              "      <th>3</th>\n",
              "      <td>86.333333</td>\n",
              "    </tr>\n",
              "  </tbody>\n",
              "</table>\n",
              "</div><br><label><b>dtype:</b> float64</label>"
            ]
          },
          "metadata": {},
          "execution_count": 88
        }
      ],
      "source": [
        "df['average_score2'] = df[['math_score', 'english_score', 'history_score']].mean(axis=1)\n",
        "df['average_score2'] #звірка результату"
      ]
    },
    {
      "cell_type": "markdown",
      "id": "34fb1db9",
      "metadata": {
        "id": "34fb1db9"
      },
      "source": [
        "6.У Вас є великий DataFrame df, що представляє транзакції продажу в магазині. Цей DataFrame містить понад 1 мільйон рядків і кілька стовпців, зокрема «product_name», «product_category», «product_price» і «transaction_date».\n",
        "\n",
        "І «product_name», і «product_category» є рядками, що представляють численні, але обмежені унікальні назви продуктів і категорії відповідно.\n",
        "\n",
        "Напишіть код для ефективного перетворення стовпців «product_name» і «product_category» на категорійний тип для ефективного використання пам’яті.\n",
        "Спробуйте вирішити це завдання, мінімізуючи використання пам'яті та зберігаючи читабельність коду. Крім того, виміряйте використання пам’яті до та після перетворення, щоб продемонструвати підвищення ефективності.\n",
        "\n",
        "Порівняйте кількість памʼяті, яку займає наданий набір даних і новий, створений Вами. В лекції був приклад. В скільки разів менше памʼяті займає новий датафрейм?"
      ]
    },
    {
      "cell_type": "code",
      "execution_count": 89,
      "id": "d4926909",
      "metadata": {
        "ExecuteTime": {
          "end_time": "2023-07-29T21:19:30.009527Z",
          "start_time": "2023-07-29T21:19:29.595210Z"
        },
        "id": "d4926909"
      },
      "outputs": [],
      "source": [
        "import pandas as pd\n",
        "import numpy as np\n",
        "\n",
        "np.random.seed(0)\n",
        "\n",
        "products = ['apple', 'banana', 'cherry', 'dates', 'elderberry']\n",
        "categories = ['fruit', 'fruit', 'fruit', 'fruit', 'fruit']\n",
        "\n",
        "N_ROWS = 10**6\n",
        "df = pd.DataFrame({\n",
        "    'product_name': np.random.choice(products, N_ROWS),\n",
        "    'product_category': np.random.choice(categories, N_ROWS),\n",
        "    'product_price': np.random.uniform(1, 10, N_ROWS),\n",
        "    'transaction_date': pd.date_range(start='1/1/2000', periods=N_ROWS, freq='h')\n",
        "})\n"
      ]
    },
    {
      "cell_type": "code",
      "source": [
        "memory_before = df.memory_usage(deep=True).sum()\n",
        "print(f'Пам\\'ять до перетворення: {memory_before / 1024**2:.2f} MB')\n",
        "\n",
        "df['product_name'] = df['product_name'].astype('category')\n",
        "df['product_category'] = df['product_category'].astype('category')\n",
        "\n",
        "memory_after = df.memory_usage(deep=True).sum()\n",
        "print(f'Пам\\'ять після перетворення: {memory_after / 1024**2:.2f} MB')\n",
        "\n",
        "memory_reduction = (memory_before - memory_after) / memory_before\n",
        "print(f'Зменшення пам\\'яті: {memory_reduction * 100:.2f}%')\n"
      ],
      "metadata": {
        "colab": {
          "base_uri": "https://localhost:8080/"
        },
        "id": "ih9p0-DmlcY1",
        "outputId": "ce84b450-77f4-4602-fef8-fb229a51f4ee"
      },
      "id": "ih9p0-DmlcY1",
      "execution_count": 90,
      "outputs": [
        {
          "output_type": "stream",
          "name": "stdout",
          "text": [
            "Пам'ять до перетворення: 134.85 MB\n",
            "Пам'ять після перетворення: 17.17 MB\n",
            "Зменшення пам'яті: 87.27%\n"
          ]
        }
      ]
    },
    {
      "cell_type": "markdown",
      "id": "131cc08d",
      "metadata": {
        "id": "131cc08d"
      },
      "source": [
        "7.В цьому завданні кілька пунктів. Треба виконати усі послідовно.   \n",
        "    7.1. Завантажте дані у pandas dataframe з файла `ecommerce_data.csv`. Обовʼязково при завантаженні вкажіть параметр `encoding = 'ISO-8859-1'`, без нього буде помилка.  \n",
        "    7.2. Заповніть пропущені значення в колонці CustomerID на -1 та перетворіть тип цієї колонки на str, адже зараз вона типу float, а це не правильний тип даних для ідентифікатора клієнта.  \n",
        "    7.3. З допомогою бібліотеки sweetviz побудуйте html звіт, який порівнює дані для країни \"Germany\" і країни \"France\". У Вас можуть виникнути багато попереджень (Warning), їх рекомендую вимкнути наступним шматком коду   \n",
        "    \n",
        "   \n",
        "    import warnings\n",
        "\n",
        "    with warnings.catch_warnings(record=True):\n",
        "        # your code\n",
        "    \n",
        "    \n",
        "   7.4.Напишіть 5 відмінностей для двох зазначених країн на основі побудованого звіту, без виконання додаткового аналізу іншими інструментами."
      ]
    },
    {
      "cell_type": "code",
      "execution_count": 91,
      "id": "17200e77",
      "metadata": {
        "id": "17200e77"
      },
      "outputs": [],
      "source": [
        "import pandas as pd\n",
        "\n",
        "df = pd.read_csv('/content/drive/MyDrive/data/ecommerce_data.csv', encoding = 'ISO-8859-1')"
      ]
    },
    {
      "cell_type": "code",
      "source": [
        "df.head() #подивитись, що міститься в даних"
      ],
      "metadata": {
        "colab": {
          "base_uri": "https://localhost:8080/",
          "height": 206
        },
        "id": "aDI1gxaMpgb8",
        "outputId": "f6eb27aa-5d92-4a03-8f55-8bd5d6770cbf"
      },
      "id": "aDI1gxaMpgb8",
      "execution_count": 92,
      "outputs": [
        {
          "output_type": "execute_result",
          "data": {
            "text/plain": [
              "  InvoiceNo StockCode                          Description  Quantity  \\\n",
              "0    536365    85123A   WHITE HANGING HEART T-LIGHT HOLDER         6   \n",
              "1    536365     71053                  WHITE METAL LANTERN         6   \n",
              "2    536365    84406B       CREAM CUPID HEARTS COAT HANGER         8   \n",
              "3    536365    84029G  KNITTED UNION FLAG HOT WATER BOTTLE         6   \n",
              "4    536365    84029E       RED WOOLLY HOTTIE WHITE HEART.         6   \n",
              "\n",
              "      InvoiceDate  UnitPrice  CustomerID         Country  \n",
              "0  12/1/2010 8:26       2.55     17850.0  United Kingdom  \n",
              "1  12/1/2010 8:26       3.39     17850.0  United Kingdom  \n",
              "2  12/1/2010 8:26       2.75     17850.0  United Kingdom  \n",
              "3  12/1/2010 8:26       3.39     17850.0  United Kingdom  \n",
              "4  12/1/2010 8:26       3.39     17850.0  United Kingdom  "
            ],
            "text/html": [
              "\n",
              "  <div id=\"df-d374b8ad-d95c-4652-adb5-22db27a776f0\" class=\"colab-df-container\">\n",
              "    <div>\n",
              "<style scoped>\n",
              "    .dataframe tbody tr th:only-of-type {\n",
              "        vertical-align: middle;\n",
              "    }\n",
              "\n",
              "    .dataframe tbody tr th {\n",
              "        vertical-align: top;\n",
              "    }\n",
              "\n",
              "    .dataframe thead th {\n",
              "        text-align: right;\n",
              "    }\n",
              "</style>\n",
              "<table border=\"1\" class=\"dataframe\">\n",
              "  <thead>\n",
              "    <tr style=\"text-align: right;\">\n",
              "      <th></th>\n",
              "      <th>InvoiceNo</th>\n",
              "      <th>StockCode</th>\n",
              "      <th>Description</th>\n",
              "      <th>Quantity</th>\n",
              "      <th>InvoiceDate</th>\n",
              "      <th>UnitPrice</th>\n",
              "      <th>CustomerID</th>\n",
              "      <th>Country</th>\n",
              "    </tr>\n",
              "  </thead>\n",
              "  <tbody>\n",
              "    <tr>\n",
              "      <th>0</th>\n",
              "      <td>536365</td>\n",
              "      <td>85123A</td>\n",
              "      <td>WHITE HANGING HEART T-LIGHT HOLDER</td>\n",
              "      <td>6</td>\n",
              "      <td>12/1/2010 8:26</td>\n",
              "      <td>2.55</td>\n",
              "      <td>17850.0</td>\n",
              "      <td>United Kingdom</td>\n",
              "    </tr>\n",
              "    <tr>\n",
              "      <th>1</th>\n",
              "      <td>536365</td>\n",
              "      <td>71053</td>\n",
              "      <td>WHITE METAL LANTERN</td>\n",
              "      <td>6</td>\n",
              "      <td>12/1/2010 8:26</td>\n",
              "      <td>3.39</td>\n",
              "      <td>17850.0</td>\n",
              "      <td>United Kingdom</td>\n",
              "    </tr>\n",
              "    <tr>\n",
              "      <th>2</th>\n",
              "      <td>536365</td>\n",
              "      <td>84406B</td>\n",
              "      <td>CREAM CUPID HEARTS COAT HANGER</td>\n",
              "      <td>8</td>\n",
              "      <td>12/1/2010 8:26</td>\n",
              "      <td>2.75</td>\n",
              "      <td>17850.0</td>\n",
              "      <td>United Kingdom</td>\n",
              "    </tr>\n",
              "    <tr>\n",
              "      <th>3</th>\n",
              "      <td>536365</td>\n",
              "      <td>84029G</td>\n",
              "      <td>KNITTED UNION FLAG HOT WATER BOTTLE</td>\n",
              "      <td>6</td>\n",
              "      <td>12/1/2010 8:26</td>\n",
              "      <td>3.39</td>\n",
              "      <td>17850.0</td>\n",
              "      <td>United Kingdom</td>\n",
              "    </tr>\n",
              "    <tr>\n",
              "      <th>4</th>\n",
              "      <td>536365</td>\n",
              "      <td>84029E</td>\n",
              "      <td>RED WOOLLY HOTTIE WHITE HEART.</td>\n",
              "      <td>6</td>\n",
              "      <td>12/1/2010 8:26</td>\n",
              "      <td>3.39</td>\n",
              "      <td>17850.0</td>\n",
              "      <td>United Kingdom</td>\n",
              "    </tr>\n",
              "  </tbody>\n",
              "</table>\n",
              "</div>\n",
              "    <div class=\"colab-df-buttons\">\n",
              "\n",
              "  <div class=\"colab-df-container\">\n",
              "    <button class=\"colab-df-convert\" onclick=\"convertToInteractive('df-d374b8ad-d95c-4652-adb5-22db27a776f0')\"\n",
              "            title=\"Convert this dataframe to an interactive table.\"\n",
              "            style=\"display:none;\">\n",
              "\n",
              "  <svg xmlns=\"http://www.w3.org/2000/svg\" height=\"24px\" viewBox=\"0 -960 960 960\">\n",
              "    <path d=\"M120-120v-720h720v720H120Zm60-500h600v-160H180v160Zm220 220h160v-160H400v160Zm0 220h160v-160H400v160ZM180-400h160v-160H180v160Zm440 0h160v-160H620v160ZM180-180h160v-160H180v160Zm440 0h160v-160H620v160Z\"/>\n",
              "  </svg>\n",
              "    </button>\n",
              "\n",
              "  <style>\n",
              "    .colab-df-container {\n",
              "      display:flex;\n",
              "      gap: 12px;\n",
              "    }\n",
              "\n",
              "    .colab-df-convert {\n",
              "      background-color: #E8F0FE;\n",
              "      border: none;\n",
              "      border-radius: 50%;\n",
              "      cursor: pointer;\n",
              "      display: none;\n",
              "      fill: #1967D2;\n",
              "      height: 32px;\n",
              "      padding: 0 0 0 0;\n",
              "      width: 32px;\n",
              "    }\n",
              "\n",
              "    .colab-df-convert:hover {\n",
              "      background-color: #E2EBFA;\n",
              "      box-shadow: 0px 1px 2px rgba(60, 64, 67, 0.3), 0px 1px 3px 1px rgba(60, 64, 67, 0.15);\n",
              "      fill: #174EA6;\n",
              "    }\n",
              "\n",
              "    .colab-df-buttons div {\n",
              "      margin-bottom: 4px;\n",
              "    }\n",
              "\n",
              "    [theme=dark] .colab-df-convert {\n",
              "      background-color: #3B4455;\n",
              "      fill: #D2E3FC;\n",
              "    }\n",
              "\n",
              "    [theme=dark] .colab-df-convert:hover {\n",
              "      background-color: #434B5C;\n",
              "      box-shadow: 0px 1px 3px 1px rgba(0, 0, 0, 0.15);\n",
              "      filter: drop-shadow(0px 1px 2px rgba(0, 0, 0, 0.3));\n",
              "      fill: #FFFFFF;\n",
              "    }\n",
              "  </style>\n",
              "\n",
              "    <script>\n",
              "      const buttonEl =\n",
              "        document.querySelector('#df-d374b8ad-d95c-4652-adb5-22db27a776f0 button.colab-df-convert');\n",
              "      buttonEl.style.display =\n",
              "        google.colab.kernel.accessAllowed ? 'block' : 'none';\n",
              "\n",
              "      async function convertToInteractive(key) {\n",
              "        const element = document.querySelector('#df-d374b8ad-d95c-4652-adb5-22db27a776f0');\n",
              "        const dataTable =\n",
              "          await google.colab.kernel.invokeFunction('convertToInteractive',\n",
              "                                                    [key], {});\n",
              "        if (!dataTable) return;\n",
              "\n",
              "        const docLinkHtml = 'Like what you see? Visit the ' +\n",
              "          '<a target=\"_blank\" href=https://colab.research.google.com/notebooks/data_table.ipynb>data table notebook</a>'\n",
              "          + ' to learn more about interactive tables.';\n",
              "        element.innerHTML = '';\n",
              "        dataTable['output_type'] = 'display_data';\n",
              "        await google.colab.output.renderOutput(dataTable, element);\n",
              "        const docLink = document.createElement('div');\n",
              "        docLink.innerHTML = docLinkHtml;\n",
              "        element.appendChild(docLink);\n",
              "      }\n",
              "    </script>\n",
              "  </div>\n",
              "\n",
              "\n",
              "<div id=\"df-ff521560-8025-4696-8c65-7bafe6bc03ac\">\n",
              "  <button class=\"colab-df-quickchart\" onclick=\"quickchart('df-ff521560-8025-4696-8c65-7bafe6bc03ac')\"\n",
              "            title=\"Suggest charts\"\n",
              "            style=\"display:none;\">\n",
              "\n",
              "<svg xmlns=\"http://www.w3.org/2000/svg\" height=\"24px\"viewBox=\"0 0 24 24\"\n",
              "     width=\"24px\">\n",
              "    <g>\n",
              "        <path d=\"M19 3H5c-1.1 0-2 .9-2 2v14c0 1.1.9 2 2 2h14c1.1 0 2-.9 2-2V5c0-1.1-.9-2-2-2zM9 17H7v-7h2v7zm4 0h-2V7h2v10zm4 0h-2v-4h2v4z\"/>\n",
              "    </g>\n",
              "</svg>\n",
              "  </button>\n",
              "\n",
              "<style>\n",
              "  .colab-df-quickchart {\n",
              "      --bg-color: #E8F0FE;\n",
              "      --fill-color: #1967D2;\n",
              "      --hover-bg-color: #E2EBFA;\n",
              "      --hover-fill-color: #174EA6;\n",
              "      --disabled-fill-color: #AAA;\n",
              "      --disabled-bg-color: #DDD;\n",
              "  }\n",
              "\n",
              "  [theme=dark] .colab-df-quickchart {\n",
              "      --bg-color: #3B4455;\n",
              "      --fill-color: #D2E3FC;\n",
              "      --hover-bg-color: #434B5C;\n",
              "      --hover-fill-color: #FFFFFF;\n",
              "      --disabled-bg-color: #3B4455;\n",
              "      --disabled-fill-color: #666;\n",
              "  }\n",
              "\n",
              "  .colab-df-quickchart {\n",
              "    background-color: var(--bg-color);\n",
              "    border: none;\n",
              "    border-radius: 50%;\n",
              "    cursor: pointer;\n",
              "    display: none;\n",
              "    fill: var(--fill-color);\n",
              "    height: 32px;\n",
              "    padding: 0;\n",
              "    width: 32px;\n",
              "  }\n",
              "\n",
              "  .colab-df-quickchart:hover {\n",
              "    background-color: var(--hover-bg-color);\n",
              "    box-shadow: 0 1px 2px rgba(60, 64, 67, 0.3), 0 1px 3px 1px rgba(60, 64, 67, 0.15);\n",
              "    fill: var(--button-hover-fill-color);\n",
              "  }\n",
              "\n",
              "  .colab-df-quickchart-complete:disabled,\n",
              "  .colab-df-quickchart-complete:disabled:hover {\n",
              "    background-color: var(--disabled-bg-color);\n",
              "    fill: var(--disabled-fill-color);\n",
              "    box-shadow: none;\n",
              "  }\n",
              "\n",
              "  .colab-df-spinner {\n",
              "    border: 2px solid var(--fill-color);\n",
              "    border-color: transparent;\n",
              "    border-bottom-color: var(--fill-color);\n",
              "    animation:\n",
              "      spin 1s steps(1) infinite;\n",
              "  }\n",
              "\n",
              "  @keyframes spin {\n",
              "    0% {\n",
              "      border-color: transparent;\n",
              "      border-bottom-color: var(--fill-color);\n",
              "      border-left-color: var(--fill-color);\n",
              "    }\n",
              "    20% {\n",
              "      border-color: transparent;\n",
              "      border-left-color: var(--fill-color);\n",
              "      border-top-color: var(--fill-color);\n",
              "    }\n",
              "    30% {\n",
              "      border-color: transparent;\n",
              "      border-left-color: var(--fill-color);\n",
              "      border-top-color: var(--fill-color);\n",
              "      border-right-color: var(--fill-color);\n",
              "    }\n",
              "    40% {\n",
              "      border-color: transparent;\n",
              "      border-right-color: var(--fill-color);\n",
              "      border-top-color: var(--fill-color);\n",
              "    }\n",
              "    60% {\n",
              "      border-color: transparent;\n",
              "      border-right-color: var(--fill-color);\n",
              "    }\n",
              "    80% {\n",
              "      border-color: transparent;\n",
              "      border-right-color: var(--fill-color);\n",
              "      border-bottom-color: var(--fill-color);\n",
              "    }\n",
              "    90% {\n",
              "      border-color: transparent;\n",
              "      border-bottom-color: var(--fill-color);\n",
              "    }\n",
              "  }\n",
              "</style>\n",
              "\n",
              "  <script>\n",
              "    async function quickchart(key) {\n",
              "      const quickchartButtonEl =\n",
              "        document.querySelector('#' + key + ' button');\n",
              "      quickchartButtonEl.disabled = true;  // To prevent multiple clicks.\n",
              "      quickchartButtonEl.classList.add('colab-df-spinner');\n",
              "      try {\n",
              "        const charts = await google.colab.kernel.invokeFunction(\n",
              "            'suggestCharts', [key], {});\n",
              "      } catch (error) {\n",
              "        console.error('Error during call to suggestCharts:', error);\n",
              "      }\n",
              "      quickchartButtonEl.classList.remove('colab-df-spinner');\n",
              "      quickchartButtonEl.classList.add('colab-df-quickchart-complete');\n",
              "    }\n",
              "    (() => {\n",
              "      let quickchartButtonEl =\n",
              "        document.querySelector('#df-ff521560-8025-4696-8c65-7bafe6bc03ac button');\n",
              "      quickchartButtonEl.style.display =\n",
              "        google.colab.kernel.accessAllowed ? 'block' : 'none';\n",
              "    })();\n",
              "  </script>\n",
              "</div>\n",
              "    </div>\n",
              "  </div>\n"
            ],
            "application/vnd.google.colaboratory.intrinsic+json": {
              "type": "dataframe",
              "variable_name": "df"
            }
          },
          "metadata": {},
          "execution_count": 92
        }
      ]
    },
    {
      "cell_type": "code",
      "source": [
        "df['CustomerID'] = df['CustomerID'].fillna(-1)\n",
        "df['CustomerID'] = df['CustomerID'].astype(str)"
      ],
      "metadata": {
        "id": "1XUaHc_Mnv5s"
      },
      "id": "1XUaHc_Mnv5s",
      "execution_count": 93,
      "outputs": []
    },
    {
      "cell_type": "code",
      "source": [
        "! pip install sweetviz"
      ],
      "metadata": {
        "colab": {
          "base_uri": "https://localhost:8080/"
        },
        "id": "TJjkPfebpCYg",
        "outputId": "609fad6e-be10-4408-adb6-9b5388fbdb45"
      },
      "id": "TJjkPfebpCYg",
      "execution_count": 50,
      "outputs": [
        {
          "output_type": "stream",
          "name": "stdout",
          "text": [
            "Collecting sweetviz\n",
            "  Downloading sweetviz-2.3.1-py3-none-any.whl.metadata (24 kB)\n",
            "Requirement already satisfied: pandas!=1.0.0,!=1.0.1,!=1.0.2,>=0.25.3 in /usr/local/lib/python3.11/dist-packages (from sweetviz) (2.2.2)\n",
            "Requirement already satisfied: numpy>=1.16.0 in /usr/local/lib/python3.11/dist-packages (from sweetviz) (1.26.4)\n",
            "Requirement already satisfied: matplotlib>=3.1.3 in /usr/local/lib/python3.11/dist-packages (from sweetviz) (3.10.0)\n",
            "Requirement already satisfied: tqdm>=4.43.0 in /usr/local/lib/python3.11/dist-packages (from sweetviz) (4.67.1)\n",
            "Requirement already satisfied: scipy>=1.3.2 in /usr/local/lib/python3.11/dist-packages (from sweetviz) (1.13.1)\n",
            "Requirement already satisfied: jinja2>=2.11.1 in /usr/local/lib/python3.11/dist-packages (from sweetviz) (3.1.5)\n",
            "Requirement already satisfied: importlib-resources>=1.2.0 in /usr/local/lib/python3.11/dist-packages (from sweetviz) (6.5.2)\n",
            "Requirement already satisfied: MarkupSafe>=2.0 in /usr/local/lib/python3.11/dist-packages (from jinja2>=2.11.1->sweetviz) (3.0.2)\n",
            "Requirement already satisfied: contourpy>=1.0.1 in /usr/local/lib/python3.11/dist-packages (from matplotlib>=3.1.3->sweetviz) (1.3.1)\n",
            "Requirement already satisfied: cycler>=0.10 in /usr/local/lib/python3.11/dist-packages (from matplotlib>=3.1.3->sweetviz) (0.12.1)\n",
            "Requirement already satisfied: fonttools>=4.22.0 in /usr/local/lib/python3.11/dist-packages (from matplotlib>=3.1.3->sweetviz) (4.55.8)\n",
            "Requirement already satisfied: kiwisolver>=1.3.1 in /usr/local/lib/python3.11/dist-packages (from matplotlib>=3.1.3->sweetviz) (1.4.8)\n",
            "Requirement already satisfied: packaging>=20.0 in /usr/local/lib/python3.11/dist-packages (from matplotlib>=3.1.3->sweetviz) (24.2)\n",
            "Requirement already satisfied: pillow>=8 in /usr/local/lib/python3.11/dist-packages (from matplotlib>=3.1.3->sweetviz) (11.1.0)\n",
            "Requirement already satisfied: pyparsing>=2.3.1 in /usr/local/lib/python3.11/dist-packages (from matplotlib>=3.1.3->sweetviz) (3.2.1)\n",
            "Requirement already satisfied: python-dateutil>=2.7 in /usr/local/lib/python3.11/dist-packages (from matplotlib>=3.1.3->sweetviz) (2.8.2)\n",
            "Requirement already satisfied: pytz>=2020.1 in /usr/local/lib/python3.11/dist-packages (from pandas!=1.0.0,!=1.0.1,!=1.0.2,>=0.25.3->sweetviz) (2025.1)\n",
            "Requirement already satisfied: tzdata>=2022.7 in /usr/local/lib/python3.11/dist-packages (from pandas!=1.0.0,!=1.0.1,!=1.0.2,>=0.25.3->sweetviz) (2025.1)\n",
            "Requirement already satisfied: six>=1.5 in /usr/local/lib/python3.11/dist-packages (from python-dateutil>=2.7->matplotlib>=3.1.3->sweetviz) (1.17.0)\n",
            "Downloading sweetviz-2.3.1-py3-none-any.whl (15.1 MB)\n",
            "\u001b[2K   \u001b[90m━━━━━━━━━━━━━━━━━━━━━━━━━━━━━━━━━━━━━━━━\u001b[0m \u001b[32m15.1/15.1 MB\u001b[0m \u001b[31m32.1 MB/s\u001b[0m eta \u001b[36m0:00:00\u001b[0m\n",
            "\u001b[?25hInstalling collected packages: sweetviz\n",
            "Successfully installed sweetviz-2.3.1\n"
          ]
        }
      ]
    },
    {
      "cell_type": "code",
      "source": [
        "import sweetviz as sv\n",
        "import warnings\n",
        "\n",
        "with warnings.catch_warnings(record=True):\n",
        "    warnings.simplefilter(\"ignore\")\n",
        "\n",
        "df_filtered = df[df['Country'].isin(['Germany', 'France'])]\n",
        "report = sv.compare(df_filtered[df_filtered['Country'] == 'Germany'], df_filtered[df_filtered['Country'] == 'France'])\n",
        "report.show_html('country_comparison_report.html')\n"
      ],
      "metadata": {
        "colab": {
          "base_uri": "https://localhost:8080/",
          "height": 66,
          "referenced_widgets": [
            "5d44d6cc12da43ca8d5736e599037e37",
            "01715c875e764b27991245b935892c73",
            "9baff80bf08b48aaab49307a7bd1a189",
            "755147e57edb4f768ea9426e12ebde6e",
            "05ebae9a31654823829fca946002a5c4",
            "f584db6d12684c4e93cdd7ce9b49391e",
            "ed06a0bc6ad747a38ae3c37bc6cfb27a",
            "35dde4c7c83e41c4be1ccd18f7cefe1a",
            "7e15077ff87b425682292c4e1c19d066",
            "715cc64e4e4c48f8ae4335f873b261fb",
            "5c26beeb90a142eeafb9fd59d3ab9339"
          ]
        },
        "id": "qqxezlGmogxc",
        "outputId": "6e3b766d-d90b-439c-c886-952e6f2a6c06"
      },
      "id": "qqxezlGmogxc",
      "execution_count": 94,
      "outputs": [
        {
          "output_type": "display_data",
          "data": {
            "text/plain": [
              "                                             |          | [  0%]   00:00 -> (? left)"
            ],
            "application/vnd.jupyter.widget-view+json": {
              "version_major": 2,
              "version_minor": 0,
              "model_id": "5d44d6cc12da43ca8d5736e599037e37"
            }
          },
          "metadata": {}
        },
        {
          "output_type": "stream",
          "name": "stdout",
          "text": [
            "Report country_comparison_report.html was generated! NOTEBOOK/COLAB USERS: the web browser MAY not pop up, regardless, the report IS saved in your notebook/colab files.\n"
          ]
        }
      ]
    },
    {
      "cell_type": "markdown",
      "source": [
        "основні відмінності:\n",
        "1. Кількість покупок (унікальних значень InvoiceNo) - Німеччина - 603, Франція - 461.\n",
        "2. Кількість унікальних товарів StockCode\t- Німеччина - 1671, Франція - 1543.\n",
        "3. Кількість унікальних покупців (CustomerID) - Німеччина - 95, Франція - 88.\n",
        "4. Кількість унікальних значень ціни за одиницю товару: Німеччина - 106, Франція - 97.\n",
        "5. Кількість унікальних дат здійснення покупок: Німеччина - 598, Франція - 461."
      ],
      "metadata": {
        "id": "appBRzdQs5pb"
      },
      "id": "appBRzdQs5pb"
    },
    {
      "cell_type": "markdown",
      "id": "07ae375a",
      "metadata": {
        "ExecuteTime": {
          "end_time": "2023-07-30T18:55:42.650457Z",
          "start_time": "2023-07-30T18:55:42.635729Z"
        },
        "id": "07ae375a"
      },
      "source": [
        "8.З допомогою ChatGPT виявіть, чи є та які помилки в наступному коді.  \n",
        "Попросіть після цього переписати код із дотриманням PEP8. Проаналізуйте результат. Чи справді ChatGPT виправив всі стилістичні помилки? Якщо ні, напишіть йому ще кілька запитів, аби код відповідав вимогам PEP8.  \n",
        "Вставте фінальну версію коду з чату у ноутбук та запустіть на заданому списку. Має вертатись 50.  \n",
        "Напишіть, які промпти (інструкції) при зверненні до ChatGPT ви застосували та додайте скріншот(-и) з промптами та відповідями чата.  \n",
        "Якщо зробили висновки при виконанні цього завдання, то діліться також :)\n",
        "\n",
        "**ЯК ВСТАВИТИ СКРІНШОТ в Jupyter Notebook** :\n",
        "1. Створіть нову Markdown клітинку\n",
        "2. В новоствореній клітинці обираєте в меню Jupyter Notebook Edit -> Insert Image\n",
        "3. Обираєте картинку\n",
        "4. В клітинці має зʼявитись текст, який містить картинку. Запустіть клітинку.\n",
        "\n",
        "Або можна просто перетягнути картинку в Markdown клітинку."
      ]
    },
    {
      "cell_type": "code",
      "execution_count": 95,
      "id": "a5c010c4",
      "metadata": {
        "ExecuteTime": {
          "end_time": "2023-07-30T19:16:20.977219Z",
          "start_time": "2023-07-30T19:16:20.973688Z"
        },
        "id": "a5c010c4"
      },
      "outputs": [],
      "source": [
        "def CalculateVariance(nl):\n",
        "    sum_list = 0\n",
        "    for n in nl:\n",
        "        sum_list = sum_list + n\n",
        "    mean = sum_list / len(nl)\n",
        "    sum_squares = 0\n",
        "    for n in nl:\n",
        "        sum_squares = sum_squares + n**2\n",
        "    mean_squares = sum_squares / len(nl)\n",
        "    return mean_squares"
      ]
    },
    {
      "cell_type": "code",
      "execution_count": 96,
      "id": "24bb3f81",
      "metadata": {
        "ExecuteTime": {
          "end_time": "2023-07-30T19:16:09.201841Z",
          "start_time": "2023-07-30T19:16:09.199174Z"
        },
        "id": "24bb3f81"
      },
      "outputs": [],
      "source": [
        "input_list = [75, 80, 85, 90, 95]"
      ]
    },
    {
      "cell_type": "code",
      "source": [
        "def calculate_variance(nl):\n",
        "    total_sum = 0\n",
        "    for n in nl:\n",
        "        total_sum += n\n",
        "\n",
        "    mean = total_sum / len(nl)\n",
        "\n",
        "    sum_squares = 0\n",
        "    for n in nl:\n",
        "        sum_squares += n**2\n",
        "\n",
        "    mean_squares = sum_squares / len(nl)\n",
        "\n",
        "    return mean_squares - mean**2\n",
        "\n",
        "calculate_variance(input_list)"
      ],
      "metadata": {
        "colab": {
          "base_uri": "https://localhost:8080/"
        },
        "id": "WXx2LOsasi1I",
        "outputId": "0fba0f17-73c8-497b-ce9d-f9a5e75a4263"
      },
      "id": "WXx2LOsasi1I",
      "execution_count": 97,
      "outputs": [
        {
          "output_type": "execute_result",
          "data": {
            "text/plain": [
              "50.0"
            ]
          },
          "metadata": {},
          "execution_count": 97
        }
      ]
    },
    {
      "cell_type": "markdown",
      "source": [
        "![image.png](data:image/png;base64,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)"
      ],
      "metadata": {
        "id": "rQ6JJKKL1kt_"
      },
      "id": "rQ6JJKKL1kt_"
    },
    {
      "cell_type": "markdown",
      "source": [
        "це був мій перший запит. Після отримання відповіді я попросила чат покращити код ще і ще, але потім виявила, що найперша версія мені найбільше сподобалась з точки зору дотримання стандартів  PEP8 та загальної читабельності. Подальший створений код давав неправильний результат після відпрацювання. Тому мій інсайт в даному випадку - іноді в досконалості **Є МЕЖА** і треба вміти вчасно зупинитись, аби в бажанні зробити краще не зробити гірше."
      ],
      "metadata": {
        "id": "hEn_bjoq1qrY"
      },
      "id": "hEn_bjoq1qrY"
    }
  ],
  "metadata": {
    "kernelspec": {
      "display_name": "Python 3 (ipykernel)",
      "language": "python",
      "name": "python3"
    },
    "language_info": {
      "codemirror_mode": {
        "name": "ipython",
        "version": 3
      },
      "file_extension": ".py",
      "mimetype": "text/x-python",
      "name": "python",
      "nbconvert_exporter": "python",
      "pygments_lexer": "ipython3",
      "version": "3.10.4"
    },
    "toc": {
      "base_numbering": 1,
      "nav_menu": {},
      "number_sections": true,
      "sideBar": true,
      "skip_h1_title": false,
      "title_cell": "Table of Contents",
      "title_sidebar": "Contents",
      "toc_cell": false,
      "toc_position": {},
      "toc_section_display": true,
      "toc_window_display": false
    },
    "colab": {
      "provenance": []
    },
    "widgets": {
      "application/vnd.jupyter.widget-state+json": {
        "5d44d6cc12da43ca8d5736e599037e37": {
          "model_module": "@jupyter-widgets/controls",
          "model_name": "HBoxModel",
          "model_module_version": "1.5.0",
          "state": {
            "_dom_classes": [],
            "_model_module": "@jupyter-widgets/controls",
            "_model_module_version": "1.5.0",
            "_model_name": "HBoxModel",
            "_view_count": null,
            "_view_module": "@jupyter-widgets/controls",
            "_view_module_version": "1.5.0",
            "_view_name": "HBoxView",
            "box_style": "",
            "children": [
              "IPY_MODEL_01715c875e764b27991245b935892c73",
              "IPY_MODEL_9baff80bf08b48aaab49307a7bd1a189",
              "IPY_MODEL_755147e57edb4f768ea9426e12ebde6e"
            ],
            "layout": "IPY_MODEL_05ebae9a31654823829fca946002a5c4"
          }
        },
        "01715c875e764b27991245b935892c73": {
          "model_module": "@jupyter-widgets/controls",
          "model_name": "HTMLModel",
          "model_module_version": "1.5.0",
          "state": {
            "_dom_classes": [],
            "_model_module": "@jupyter-widgets/controls",
            "_model_module_version": "1.5.0",
            "_model_name": "HTMLModel",
            "_view_count": null,
            "_view_module": "@jupyter-widgets/controls",
            "_view_module_version": "1.5.0",
            "_view_name": "HTMLView",
            "description": "",
            "description_tooltip": null,
            "layout": "IPY_MODEL_f584db6d12684c4e93cdd7ce9b49391e",
            "placeholder": "​",
            "style": "IPY_MODEL_ed06a0bc6ad747a38ae3c37bc6cfb27a",
            "value": "Done! Use &#x27;show&#x27; commands to display/save.   "
          }
        },
        "9baff80bf08b48aaab49307a7bd1a189": {
          "model_module": "@jupyter-widgets/controls",
          "model_name": "FloatProgressModel",
          "model_module_version": "1.5.0",
          "state": {
            "_dom_classes": [],
            "_model_module": "@jupyter-widgets/controls",
            "_model_module_version": "1.5.0",
            "_model_name": "FloatProgressModel",
            "_view_count": null,
            "_view_module": "@jupyter-widgets/controls",
            "_view_module_version": "1.5.0",
            "_view_name": "ProgressView",
            "bar_style": "success",
            "description": "",
            "description_tooltip": null,
            "layout": "IPY_MODEL_35dde4c7c83e41c4be1ccd18f7cefe1a",
            "max": 1,
            "min": 0,
            "orientation": "horizontal",
            "style": "IPY_MODEL_7e15077ff87b425682292c4e1c19d066",
            "value": 1
          }
        },
        "755147e57edb4f768ea9426e12ebde6e": {
          "model_module": "@jupyter-widgets/controls",
          "model_name": "HTMLModel",
          "model_module_version": "1.5.0",
          "state": {
            "_dom_classes": [],
            "_model_module": "@jupyter-widgets/controls",
            "_model_module_version": "1.5.0",
            "_model_name": "HTMLModel",
            "_view_count": null,
            "_view_module": "@jupyter-widgets/controls",
            "_view_module_version": "1.5.0",
            "_view_name": "HTMLView",
            "description": "",
            "description_tooltip": null,
            "layout": "IPY_MODEL_715cc64e4e4c48f8ae4335f873b261fb",
            "placeholder": "​",
            "style": "IPY_MODEL_5c26beeb90a142eeafb9fd59d3ab9339",
            "value": " [100%]   00:01 -&gt; (00:00 left)"
          }
        },
        "05ebae9a31654823829fca946002a5c4": {
          "model_module": "@jupyter-widgets/base",
          "model_name": "LayoutModel",
          "model_module_version": "1.2.0",
          "state": {
            "_model_module": "@jupyter-widgets/base",
            "_model_module_version": "1.2.0",
            "_model_name": "LayoutModel",
            "_view_count": null,
            "_view_module": "@jupyter-widgets/base",
            "_view_module_version": "1.2.0",
            "_view_name": "LayoutView",
            "align_content": null,
            "align_items": null,
            "align_self": null,
            "border": null,
            "bottom": null,
            "display": "inline-flex",
            "flex": null,
            "flex_flow": "row wrap",
            "grid_area": null,
            "grid_auto_columns": null,
            "grid_auto_flow": null,
            "grid_auto_rows": null,
            "grid_column": null,
            "grid_gap": null,
            "grid_row": null,
            "grid_template_areas": null,
            "grid_template_columns": null,
            "grid_template_rows": null,
            "height": null,
            "justify_content": null,
            "justify_items": null,
            "left": null,
            "margin": null,
            "max_height": null,
            "max_width": null,
            "min_height": null,
            "min_width": null,
            "object_fit": null,
            "object_position": null,
            "order": null,
            "overflow": null,
            "overflow_x": null,
            "overflow_y": null,
            "padding": null,
            "right": null,
            "top": null,
            "visibility": null,
            "width": "100%"
          }
        },
        "f584db6d12684c4e93cdd7ce9b49391e": {
          "model_module": "@jupyter-widgets/base",
          "model_name": "LayoutModel",
          "model_module_version": "1.2.0",
          "state": {
            "_model_module": "@jupyter-widgets/base",
            "_model_module_version": "1.2.0",
            "_model_name": "LayoutModel",
            "_view_count": null,
            "_view_module": "@jupyter-widgets/base",
            "_view_module_version": "1.2.0",
            "_view_name": "LayoutView",
            "align_content": null,
            "align_items": null,
            "align_self": null,
            "border": null,
            "bottom": null,
            "display": null,
            "flex": null,
            "flex_flow": null,
            "grid_area": null,
            "grid_auto_columns": null,
            "grid_auto_flow": null,
            "grid_auto_rows": null,
            "grid_column": null,
            "grid_gap": null,
            "grid_row": null,
            "grid_template_areas": null,
            "grid_template_columns": null,
            "grid_template_rows": null,
            "height": null,
            "justify_content": null,
            "justify_items": null,
            "left": null,
            "margin": null,
            "max_height": null,
            "max_width": null,
            "min_height": null,
            "min_width": null,
            "object_fit": null,
            "object_position": null,
            "order": null,
            "overflow": null,
            "overflow_x": null,
            "overflow_y": null,
            "padding": null,
            "right": null,
            "top": null,
            "visibility": null,
            "width": null
          }
        },
        "ed06a0bc6ad747a38ae3c37bc6cfb27a": {
          "model_module": "@jupyter-widgets/controls",
          "model_name": "DescriptionStyleModel",
          "model_module_version": "1.5.0",
          "state": {
            "_model_module": "@jupyter-widgets/controls",
            "_model_module_version": "1.5.0",
            "_model_name": "DescriptionStyleModel",
            "_view_count": null,
            "_view_module": "@jupyter-widgets/base",
            "_view_module_version": "1.2.0",
            "_view_name": "StyleView",
            "description_width": ""
          }
        },
        "35dde4c7c83e41c4be1ccd18f7cefe1a": {
          "model_module": "@jupyter-widgets/base",
          "model_name": "LayoutModel",
          "model_module_version": "1.2.0",
          "state": {
            "_model_module": "@jupyter-widgets/base",
            "_model_module_version": "1.2.0",
            "_model_name": "LayoutModel",
            "_view_count": null,
            "_view_module": "@jupyter-widgets/base",
            "_view_module_version": "1.2.0",
            "_view_name": "LayoutView",
            "align_content": null,
            "align_items": null,
            "align_self": null,
            "border": null,
            "bottom": null,
            "display": null,
            "flex": "2",
            "flex_flow": null,
            "grid_area": null,
            "grid_auto_columns": null,
            "grid_auto_flow": null,
            "grid_auto_rows": null,
            "grid_column": null,
            "grid_gap": null,
            "grid_row": null,
            "grid_template_areas": null,
            "grid_template_columns": null,
            "grid_template_rows": null,
            "height": null,
            "justify_content": null,
            "justify_items": null,
            "left": null,
            "margin": null,
            "max_height": null,
            "max_width": null,
            "min_height": null,
            "min_width": null,
            "object_fit": null,
            "object_position": null,
            "order": null,
            "overflow": null,
            "overflow_x": null,
            "overflow_y": null,
            "padding": null,
            "right": null,
            "top": null,
            "visibility": null,
            "width": null
          }
        },
        "7e15077ff87b425682292c4e1c19d066": {
          "model_module": "@jupyter-widgets/controls",
          "model_name": "ProgressStyleModel",
          "model_module_version": "1.5.0",
          "state": {
            "_model_module": "@jupyter-widgets/controls",
            "_model_module_version": "1.5.0",
            "_model_name": "ProgressStyleModel",
            "_view_count": null,
            "_view_module": "@jupyter-widgets/base",
            "_view_module_version": "1.2.0",
            "_view_name": "StyleView",
            "bar_color": null,
            "description_width": ""
          }
        },
        "715cc64e4e4c48f8ae4335f873b261fb": {
          "model_module": "@jupyter-widgets/base",
          "model_name": "LayoutModel",
          "model_module_version": "1.2.0",
          "state": {
            "_model_module": "@jupyter-widgets/base",
            "_model_module_version": "1.2.0",
            "_model_name": "LayoutModel",
            "_view_count": null,
            "_view_module": "@jupyter-widgets/base",
            "_view_module_version": "1.2.0",
            "_view_name": "LayoutView",
            "align_content": null,
            "align_items": null,
            "align_self": null,
            "border": null,
            "bottom": null,
            "display": null,
            "flex": null,
            "flex_flow": null,
            "grid_area": null,
            "grid_auto_columns": null,
            "grid_auto_flow": null,
            "grid_auto_rows": null,
            "grid_column": null,
            "grid_gap": null,
            "grid_row": null,
            "grid_template_areas": null,
            "grid_template_columns": null,
            "grid_template_rows": null,
            "height": null,
            "justify_content": null,
            "justify_items": null,
            "left": null,
            "margin": null,
            "max_height": null,
            "max_width": null,
            "min_height": null,
            "min_width": null,
            "object_fit": null,
            "object_position": null,
            "order": null,
            "overflow": null,
            "overflow_x": null,
            "overflow_y": null,
            "padding": null,
            "right": null,
            "top": null,
            "visibility": null,
            "width": null
          }
        },
        "5c26beeb90a142eeafb9fd59d3ab9339": {
          "model_module": "@jupyter-widgets/controls",
          "model_name": "DescriptionStyleModel",
          "model_module_version": "1.5.0",
          "state": {
            "_model_module": "@jupyter-widgets/controls",
            "_model_module_version": "1.5.0",
            "_model_name": "DescriptionStyleModel",
            "_view_count": null,
            "_view_module": "@jupyter-widgets/base",
            "_view_module_version": "1.2.0",
            "_view_name": "StyleView",
            "description_width": ""
          }
        }
      }
    }
  },
  "nbformat": 4,
  "nbformat_minor": 5
}