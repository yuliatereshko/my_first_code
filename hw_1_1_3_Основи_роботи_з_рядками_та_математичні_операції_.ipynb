{
 "cells": [
  {
   "cell_type": "markdown",
   "metadata": {
    "id": "9ngpqNFm8w1a"
   },
   "source": [
    "# Домашнє завдання до теми \"Основи роботи з рядками та математичні операції\""
   ]
  },
  {
   "cell_type": "markdown",
   "metadata": {
    "id": "DEkQSeSyTum-"
   },
   "source": [
    "1. Створіть змінні `a`, `b`, `c` та `d`, задайте їм значення відповідно 101, 210, 111, 402, та обчисліть з допомогою Python наступний вираз:  $$ \\frac{(a+b) * c}{d} $$\n",
    "\n",
    "**Важливо**: тут ми маємо обчислити значення саме з використанням змінних, а не просто чисел, як би ми робили у калькуряторі. Змінні потрібні аби за бажання ми могли змінити їх значення та не переписувати код обчислення виразу, бо він буде працювати для різних значень змінних."
   ]
  },
  {
   "cell_type": "code",
   "execution_count": 20,
   "metadata": {
    "id": "u1ICQq5L3eKH"
   },
   "outputs": [
    {
     "data": {
      "text/plain": [
       "85.8731343283582"
      ]
     },
     "execution_count": 20,
     "metadata": {},
     "output_type": "execute_result"
    }
   ],
   "source": [
    "a = 101\n",
    "b = 210\n",
    "c = 111\n",
    "d = 402\n",
    "e = (a + b) * c / d\n",
    "e"
   ]
  },
  {
   "cell_type": "markdown",
   "metadata": {
    "id": "FnBVPt7G3bcR"
   },
   "source": [
    "Очікувана відповідь: 85.8731343283582"
   ]
  },
  {
   "cell_type": "markdown",
   "metadata": {
    "id": "HI3eEYZRT4Cn"
   },
   "source": [
    "2. Якою буде остача від ділення числа 11283 на 89? Обчисліть з допомогою Python."
   ]
  },
  {
   "cell_type": "code",
   "execution_count": 22,
   "metadata": {},
   "outputs": [
    {
     "data": {
      "text/plain": [
       "69"
      ]
     },
     "execution_count": 22,
     "metadata": {},
     "output_type": "execute_result"
    }
   ],
   "source": [
    "11283 % 89"
   ]
  },
  {
   "cell_type": "code",
   "execution_count": 24,
   "metadata": {
    "id": "ejZc3ng_TpgY"
   },
   "outputs": [
    {
     "data": {
      "text/plain": [
       "69"
      ]
     },
     "execution_count": 24,
     "metadata": {},
     "output_type": "execute_result"
    }
   ],
   "source": [
    "#АБО\n",
    "a = 11283\n",
    "b = 89\n",
    "c = a % b\n",
    "c"
   ]
  },
  {
   "cell_type": "markdown",
   "metadata": {
    "id": "RO02CqdqT9oG"
   },
   "source": [
    "3. Скільки цілих разів поміститься число 89 в 11283? (Або що те саме: який буде результат цілочисельного ділення 11283 на 89?)"
   ]
  },
  {
   "cell_type": "code",
   "execution_count": 26,
   "metadata": {
    "id": "KEUb9lO5T_PI"
   },
   "outputs": [
    {
     "data": {
      "text/plain": [
       "126"
      ]
     },
     "execution_count": 26,
     "metadata": {},
     "output_type": "execute_result"
    }
   ],
   "source": [
    "11283 // 89"
   ]
  },
  {
   "cell_type": "code",
   "execution_count": 30,
   "metadata": {},
   "outputs": [
    {
     "data": {
      "text/plain": [
       "126"
      ]
     },
     "execution_count": 30,
     "metadata": {},
     "output_type": "execute_result"
    }
   ],
   "source": [
    "#АБО\n",
    "d = a // b\n",
    "d"
   ]
  },
  {
   "cell_type": "markdown",
   "metadata": {
    "id": "5fnIPumiT_rt"
   },
   "source": [
    "4. Запишіть у змінну `name` ваше імʼя."
   ]
  },
  {
   "cell_type": "code",
   "execution_count": 32,
   "metadata": {
    "id": "xP7Mbq45UFlV"
   },
   "outputs": [],
   "source": [
    "name = 'Yulianna'"
   ]
  },
  {
   "cell_type": "markdown",
   "metadata": {
    "id": "fR9TqY79UNDL"
   },
   "source": [
    "5. Запишіть у змінну `surname` ваше прізвище."
   ]
  },
  {
   "cell_type": "code",
   "execution_count": 34,
   "metadata": {
    "id": "0qHjyMyvUOM1"
   },
   "outputs": [],
   "source": [
    "surname = 'Tereshko'"
   ]
  },
  {
   "cell_type": "markdown",
   "metadata": {
    "id": "zqKncQLwUOxh"
   },
   "source": [
    "6. Сконкатенуйте імʼя та прізвище в одну фразу через пробіл. Запишіть результат у нову змінну `name_surname` та виведіть результат на екран.  "
   ]
  },
  {
   "cell_type": "code",
   "execution_count": 44,
   "metadata": {
    "id": "8E-blvN-UTPg"
   },
   "outputs": [
    {
     "data": {
      "text/plain": [
       "'Yulianna Tereshko'"
      ]
     },
     "execution_count": 44,
     "metadata": {},
     "output_type": "execute_result"
    }
   ],
   "source": [
    "name_surname = name + ' ' + surname\n",
    "name_surname"
   ]
  },
  {
   "cell_type": "markdown",
   "metadata": {
    "id": "_Unl7EXlUgYn"
   },
   "source": [
    "Очікувана відповідь (тільки з вашими даними): 'Hanna Pylieva'"
   ]
  },
  {
   "cell_type": "markdown",
   "metadata": {
    "id": "z-3FI0IrUT0U"
   },
   "source": [
    "7. Зробіть усі літери змінної `name_surname` заглавними використовуючи метод рядків в Python:"
   ]
  },
  {
   "cell_type": "code",
   "execution_count": 46,
   "metadata": {
    "id": "9ahIwyT5UblY"
   },
   "outputs": [
    {
     "data": {
      "text/plain": [
       "'YULIANNA TERESHKO'"
      ]
     },
     "execution_count": 46,
     "metadata": {},
     "output_type": "execute_result"
    }
   ],
   "source": [
    "name_surname.upper()"
   ]
  },
  {
   "cell_type": "markdown",
   "metadata": {
    "id": "6PDcqfmdUcLo"
   },
   "source": [
    "Очікувана відповідь (тільки з вашими даними): 'HANNA PYLIEVA'"
   ]
  },
  {
   "cell_type": "markdown",
   "metadata": {
    "id": "qNl8KxeXUtnL"
   },
   "source": [
    "8. Виведіть третю літеру вашого `name_surname`. Тут уважно, треба саме третя літера. Згадайте, з якого значення починається індексування значень в Python."
   ]
  },
  {
   "cell_type": "code",
   "execution_count": 48,
   "metadata": {
    "id": "Tp7stqAhUvJz"
   },
   "outputs": [
    {
     "data": {
      "text/plain": [
       "'l'"
      ]
     },
     "execution_count": 48,
     "metadata": {},
     "output_type": "execute_result"
    }
   ],
   "source": [
    "name_surname [2]"
   ]
  },
  {
   "cell_type": "markdown",
   "metadata": {
    "id": "GYWHqb3UUvqk"
   },
   "source": [
    "Очікувана відповідь (тільки з вашими даними): 'n'"
   ]
  },
  {
   "cell_type": "markdown",
   "metadata": {
    "id": "1f3cc1a7",
    "pycharm": {
     "name": "#%% md\n"
    }
   },
   "source": [
    "9. Виведіть першу та останню літеру вашого прізвища."
   ]
  },
  {
   "cell_type": "code",
   "execution_count": 164,
   "metadata": {
    "id": "s1ZgN3xuUyB8"
   },
   "outputs": [
    {
     "data": {
      "text/plain": [
       "('T', 'o')"
      ]
     },
     "execution_count": 164,
     "metadata": {},
     "output_type": "execute_result"
    }
   ],
   "source": [
    "surname [0], surname [len (surname) - 1]"
   ]
  },
  {
   "cell_type": "markdown",
   "metadata": {
    "id": "KjlFjjhHVAt2"
   },
   "source": [
    "коментар: спочатку я написала ось так: surname [0], surname [7], але потім подумала, що це не зовсім правильний розв\"язок, адже я можна сказати \"підлаштувала\" розв\"язок під умову конкретної задачі. Тобто порахувала кількість символів у змінній surname і просто вписала номер останнього. І вирішила спробувати зробити більш універсальний розв\"язок, який підходив би під змінну з іншою довжиною без потреби рахувати вручну кількість символів перед написанням коду)) і в результаті вийшло surname [len (surname) - 1]"
   ]
  },
  {
   "cell_type": "markdown",
   "metadata": {
    "id": "KjlFjjhHVAt2"
   },
   "source": [
    "Очікувана відповідь (тільки з вашими даними): ('P', 'a')"
   ]
  },
  {
   "cell_type": "markdown",
   "metadata": {
    "id": "UYLoho3DVMt2"
   },
   "source": [
    "10. Виведіть довжину вашого прізвища."
   ]
  },
  {
   "cell_type": "code",
   "execution_count": 166,
   "metadata": {
    "id": "0TPJBh0LVA8q"
   },
   "outputs": [
    {
     "data": {
      "text/plain": [
       "8"
      ]
     },
     "execution_count": 166,
     "metadata": {},
     "output_type": "execute_result"
    }
   ],
   "source": [
    "len(surname)"
   ]
  },
  {
   "cell_type": "markdown",
   "metadata": {
    "id": "9FaxqvVgVRYW"
   },
   "source": [
    "Очікувана відповідь (тільки з вашими даними): 7\n"
   ]
  },
  {
   "cell_type": "markdown",
   "metadata": {
    "id": "JN2wxSlGVVAj"
   },
   "source": [
    "11. Виведіть кількість літер `a` у столиці Мадагаскару `Antananarivo`. Важливо врахувати всі літери, як великі, так і маленькі."
   ]
  },
  {
   "cell_type": "code",
   "execution_count": 168,
   "metadata": {},
   "outputs": [
    {
     "name": "stdout",
     "output_type": "stream",
     "text": [
      "4\n"
     ]
    }
   ],
   "source": [
    "text = \"Antananarivo\"\n",
    "text1 = text.lower()\n",
    "x = text1.count('a')\n",
    "print(x)"
   ]
  },
  {
   "cell_type": "markdown",
   "metadata": {
    "id": "Ux4SQiuSVo92"
   },
   "source": [
    "задача, яка зайняла найбільше часу. Я одразу подумала, що має бути якийсь метод count, але дуже довго не могла знайти, як саме його застосовувати))"
   ]
  },
  {
   "cell_type": "markdown",
   "metadata": {
    "id": "Ux4SQiuSVo92"
   },
   "source": [
    "Очікувана відповідь: 4"
   ]
  },
  {
   "cell_type": "markdown",
   "metadata": {
    "id": "mwEs0xnmVtes"
   },
   "source": [
    "12. Створіть рядок `my_string` зі значенням: \"The quick brown fox jumps over the lazy dog!!!\".   \n",
    "Перевірте, чи починається рядок `my_string` з \"The\" і чи закінчується він \"dog!\". Виведіть результати на екран."
   ]
  },
  {
   "cell_type": "code",
   "execution_count": 170,
   "metadata": {
    "id": "VlXDNpXcVs59"
   },
   "outputs": [
    {
     "name": "stdout",
     "output_type": "stream",
     "text": [
      "True\n",
      "False\n"
     ]
    }
   ],
   "source": [
    "my_string = \"The quick brown fox jumps over the lazy dog!!!\"\n",
    "print (my_string.startswith(\"The\"))\n",
    "print (my_string.endswith(\"dog!\"))"
   ]
  },
  {
   "cell_type": "markdown",
   "metadata": {
    "id": "Yc-UwtqvV_h0"
   },
   "source": [
    "13. Розділіть рядок `my_string` на список окремих слів, а потім з'єднайте всі слова через нижнє підкреслювання. Виведіть результат на екран."
   ]
  },
  {
   "cell_type": "code",
   "execution_count": 150,
   "metadata": {
    "id": "m5I48Ii-WDSK"
   },
   "outputs": [
    {
     "data": {
      "text/plain": [
       "['The', 'quick', 'brown', 'fox', 'jumps', 'over', 'the', 'lazy', 'dog!!!']"
      ]
     },
     "execution_count": 150,
     "metadata": {},
     "output_type": "execute_result"
    }
   ],
   "source": [
    "my_string.split(' ')"
   ]
  },
  {
   "cell_type": "code",
   "execution_count": 154,
   "metadata": {},
   "outputs": [
    {
     "data": {
      "text/plain": [
       "'The_quick_brown_fox_jumps_over_the_lazy_dog!!!'"
      ]
     },
     "execution_count": 154,
     "metadata": {},
     "output_type": "execute_result"
    }
   ],
   "source": [
    "'_'.join(['The', 'quick', 'brown', 'fox', 'jumps', 'over', 'the', 'lazy', 'dog!!!'])"
   ]
  },
  {
   "cell_type": "markdown",
   "metadata": {
    "id": "UqvD1_jIXRhx"
   },
   "source": [
    "Очікуваний результат: `The_quick_brown_fox_jumps_over_the_lazy_dog!!!`"
   ]
  }
 ],
 "metadata": {
  "colab": {
   "provenance": []
  },
  "kernelspec": {
   "display_name": "Python 3 (ipykernel)",
   "language": "python",
   "name": "python3"
  },
  "language_info": {
   "codemirror_mode": {
    "name": "ipython",
    "version": 3
   },
   "file_extension": ".py",
   "mimetype": "text/x-python",
   "name": "python",
   "nbconvert_exporter": "python",
   "pygments_lexer": "ipython3",
   "version": "3.12.4"
  }
 },
 "nbformat": 4,
 "nbformat_minor": 4
}
