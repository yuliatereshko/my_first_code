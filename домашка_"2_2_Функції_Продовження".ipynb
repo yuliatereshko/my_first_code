{
  "cells": [
    {
      "cell_type": "markdown",
      "metadata": {
        "id": "981d9265"
      },
      "source": [
        "# Домашнє завдання до теми \"Functions\"\n",
        "В цьому домашньому завданні в деяких задачах є частини коду, та в кожному завданні описано, що з ними треба зробити, часто - просто виконати після того, як ви напишете частину, якої поки не вистачає. Пишіть, будь ласка, код, який реалізує рішення кожного завдання, безпосереньо під формулюванням завдання, створюючи нові клітинки. Можете створювати скільки завгодно клітинок для виконання одного завдання."
      ],
      "id": "981d9265"
    },
    {
      "cell_type": "markdown",
      "metadata": {
        "id": "eb55a967"
      },
      "source": [
        "1. Напишіть функцію `is_even`, яка для заданого числа визначає, чи воно є парним (тобто ділиться на 2 без остачі, наприклад 4, 10, 102). Функція має вертати результат типу bool.\n",
        "Продемонструйте результати робити функції запустивши код нижче."
      ],
      "id": "eb55a967"
    },
    {
      "cell_type": "markdown",
      "source": [
        "код виконання завдання:"
      ],
      "metadata": {
        "id": "8tQfgWzfOoeS"
      },
      "id": "8tQfgWzfOoeS"
    },
    {
      "cell_type": "code",
      "execution_count": 93,
      "metadata": {
        "ExecuteTime": {
          "end_time": "2023-06-13T09:48:47.072569Z",
          "start_time": "2023-06-13T09:48:47.068977Z"
        },
        "id": "66e68f7a"
      },
      "outputs": [],
      "source": [
        "def is_even (a):\n",
        "  return (a % 2 == 0)"
      ],
      "id": "66e68f7a"
    },
    {
      "cell_type": "code",
      "execution_count": 94,
      "metadata": {
        "ExecuteTime": {
          "end_time": "2023-06-13T09:51:03.574283Z",
          "start_time": "2023-06-13T09:51:03.568715Z"
        },
        "id": "c60e04d1",
        "colab": {
          "base_uri": "https://localhost:8080/"
        },
        "outputId": "fd4d316c-7037-468b-9df0-431d0925f42c"
      },
      "outputs": [
        {
          "output_type": "execute_result",
          "data": {
            "text/plain": [
              "[False, True, False, False, True]"
            ]
          },
          "metadata": {},
          "execution_count": 94
        }
      ],
      "source": [
        "[is_even(digit) for digit in [101, 2002, 3043, 5015, 8222]]"
      ],
      "id": "c60e04d1"
    },
    {
      "cell_type": "markdown",
      "source": [
        "2. Створіть функцію `sum_numbers`, яка приймає довільну кількість числових аргументів і повертає їх суму. Функція повинна працювати з будь-якою кількістю числових аргументів, включаючи випадки, коли аргументів немає.\n",
        "\n",
        "  **Приклади виклику функції:**\n",
        "\n",
        "  1. `sum_numbers(1, 2, 3, 4)` повинно повернути `10`.\n",
        "  2. `sum_numbers(10, 20)` повинно повернути `30`.\n",
        "  3. `sum_numbers()` повинно повернути `0`.\n",
        "\n",
        "  **Вимоги до реалізації:**\n",
        "\n",
        "  - Функція має використовувати `*args` для прийому довільної кількості аргументів.\n",
        "  - Функція має правильно обробляти випадок, коли їй не передано жодного аргумента.\n",
        "\n",
        "  Продемонструйте результати робити функції запустивши її на наведених наборах нижче."
      ],
      "metadata": {
        "id": "xPlxqkpyFkti"
      },
      "id": "xPlxqkpyFkti"
    },
    {
      "cell_type": "markdown",
      "source": [
        "код виконання завдання:"
      ],
      "metadata": {
        "id": "SnNJ5gofO-5N"
      },
      "id": "SnNJ5gofO-5N"
    },
    {
      "cell_type": "code",
      "source": [
        "def add(*args):\n",
        "    return sum(args)"
      ],
      "metadata": {
        "id": "WjjXB8MqK5Kt"
      },
      "id": "WjjXB8MqK5Kt",
      "execution_count": 95,
      "outputs": []
    },
    {
      "cell_type": "code",
      "source": [
        "number_sets = [\n",
        "    (1, 2, 3, 4),\n",
        "    (10, 20),\n",
        "    (11, 12, 13),\n",
        "    (),\n",
        "    (-19, -164, 183)\n",
        "]"
      ],
      "metadata": {
        "id": "TyQnD-d1GNOM"
      },
      "execution_count": 96,
      "outputs": [],
      "id": "TyQnD-d1GNOM"
    },
    {
      "cell_type": "markdown",
      "source": [
        "код виконання завдання:"
      ],
      "metadata": {
        "id": "prkn4ZjFPAmq"
      },
      "id": "prkn4ZjFPAmq"
    },
    {
      "cell_type": "code",
      "source": [
        "for number_set in number_sets:\n",
        "    print(add(*tuple(number_set)))"
      ],
      "metadata": {
        "colab": {
          "base_uri": "https://localhost:8080/"
        },
        "id": "IQEREMASFWLi",
        "outputId": "530f99dc-a36b-47db-93ff-e03e51628385"
      },
      "id": "IQEREMASFWLi",
      "execution_count": 97,
      "outputs": [
        {
          "output_type": "stream",
          "name": "stdout",
          "text": [
            "10\n",
            "30\n",
            "36\n",
            "0\n",
            "0\n"
          ]
        }
      ]
    },
    {
      "cell_type": "markdown",
      "source": [
        "трошки не погоджуюсь з умовою задачі \"sum_numbers() повинно повернути 0\", тому що, 0 може вийти і при підрахунку, якщо параметри були вказані. Тоді не зрозуміло, чи були там задані параметри чи ні. Тому пропоную, якщо параметрів немає, виводити повідомлення про це:"
      ],
      "metadata": {
        "id": "QIwQPLn1Fu07"
      },
      "id": "QIwQPLn1Fu07"
    },
    {
      "cell_type": "code",
      "source": [
        "for number_set in number_sets:\n",
        "  if number_set == ():\n",
        "    print (\"Відсутні задані параметри\")\n",
        "  else:\n",
        "    print(add(*tuple(number_set)))"
      ],
      "metadata": {
        "id": "S_z07TQVLCQT",
        "colab": {
          "base_uri": "https://localhost:8080/"
        },
        "outputId": "ba0479ab-f8ab-4bc0-b12e-89ca5ca69c7d"
      },
      "id": "S_z07TQVLCQT",
      "execution_count": 98,
      "outputs": [
        {
          "output_type": "stream",
          "name": "stdout",
          "text": [
            "10\n",
            "30\n",
            "36\n",
            "Відсутні задані параметри\n",
            "0\n"
          ]
        }
      ]
    },
    {
      "cell_type": "markdown",
      "metadata": {
        "id": "d1769a5b"
      },
      "source": [
        "3. **Завдання на рефакторинг: Обчислення Індексу Маси Тіла (BMI).** Рефакторинг - стандартна практика при роботі зі своїм, чи чужим кодом в компанії. Тут ми дізнаємось, що це і попрактикуємось це робити.\n",
        "\n",
        "  У вашому розпорядженні є фрагмент коду, який обчислює [індекс маси тіла (BMI)](https://uk.wikipedia.org/wiki/%D0%86%D0%BD%D0%B4%D0%B5%D0%BA%D1%81_%D0%BC%D0%B0%D1%81%D0%B8_%D1%82%D1%96%D0%BB%D0%B0#:~:text=%D0%86%CC%81%D0%BD%D0%B4%D0%B5%D0%BA%D1%81%20%D0%BC%D0%B0%CC%81%D1%81%D0%B8%20%D1%82%D1%96%CC%81%D0%BB%D0%B0%20(%D0%86%D0%9C%D0%A2%2C%20%D0%B0%D0%BD%D0%B3%D0%BB,%D0%BD%D0%BE%D1%80%D0%BC%D0%B0%D0%BB%D1%8C%D0%BD%D0%BE%D1%8E%2C%20%D0%BD%D0%B0%D0%B4%D0%BC%D1%96%D1%80%D0%BD%D0%BE%D1%8E%20(%D0%BE%D0%B6%D0%B8%D1%80%D1%96%D0%BD%D0%BD%D1%8F%D0%BC) для п'яти осіб. Ваше завдання - рефакторити цей код, тобто оптимізувати його вигляд, виокремивши повторювані частини в окрему функцію. Мета рефакторингу - **зберегти функціонал існуючого коду**, але зробити його більш читабельним, зручним для розуміння та модифікації.   пʼяти осіб. Для обчислення індексу маси тіла треба розділити вагу на зріст, піднесений до квадрату.\n",
        "\n",
        "  Виділіть у функцію код, що дублюється (робить одні і ті ж самі операції, але з різними числами) так, аби результат збергісі **той самий**, але коду стало менше.\n",
        "\n",
        "  В кінці - запустіть свій відрефакторений фрагмент коду. Якщо Ваш код виводить не те ж саме, що наведений фрагмент до рефакторингу, завдання вважається не виконаним.\n",
        "\n",
        "  **Увага**: Це завдання - творче. Можна обгорнути даний код у функцію по-різному. Єдиної правильної відповіді нема. Буде перевірятись розуміння підходу \"винесення частин, що повторюються, у функцію\"."
      ],
      "id": "d1769a5b"
    },
    {
      "cell_type": "code",
      "execution_count": 23,
      "metadata": {
        "ExecuteTime": {
          "end_time": "2023-02-26T21:36:29.139957Z",
          "start_time": "2023-02-26T21:36:29.117743Z"
        },
        "id": "e0750a47",
        "colab": {
          "base_uri": "https://localhost:8080/"
        },
        "outputId": "937b68b6-cba8-45aa-c571-282085388c90"
      },
      "outputs": [
        {
          "output_type": "stream",
          "name": "stdout",
          "text": [
            "bmi person1 = 30\n",
            "bmi person2 = 29\n",
            "bmi person3 = 29\n",
            "bmi person4 = 24\n",
            "bmi person5 = 28\n"
          ]
        }
      ],
      "source": [
        "person1 = [80, 1.62]\n",
        "person2 = [69, 1.53]\n",
        "person3 = [80, 1.66]\n",
        "person4 = [80, 1.79]\n",
        "person5 = [72, 1.60]\n",
        "\n",
        "bmi_person1 = int(person1[0] / person1[1]**2)\n",
        "print(\"bmi {} = {}\".format('person1', bmi_person1))\n",
        "\n",
        "bmi_person2 = int(person2[0] / person2[1]**2)\n",
        "print(\"bmi {} = {}\".format('person2', bmi_person2))\n",
        "\n",
        "bmi_person3 = int(person3[0] / person3[1]**2)\n",
        "print(\"bmi {} = {}\".format('person3', bmi_person3))\n",
        "\n",
        "bmi_person4 = int(person4[0] / person4[1]**2)\n",
        "print(\"bmi {} = {}\".format('person4', bmi_person4))\n",
        "\n",
        "bmi_person5 = int(person5[0] / person5[1]**2)\n",
        "print(\"bmi {} = {}\".format('person5', bmi_person5))"
      ],
      "id": "e0750a47"
    },
    {
      "cell_type": "code",
      "source": [
        "def bmi (weight, height):\n",
        " return weight/height**2"
      ],
      "metadata": {
        "id": "MR3hny6hLFmu"
      },
      "id": "MR3hny6hLFmu",
      "execution_count": 102,
      "outputs": []
    },
    {
      "cell_type": "code",
      "source": [
        "persons = {\n",
        "    \"person1\": [80, 1.62],\n",
        "    \"person2\": [69, 1.53],\n",
        "    \"person3\": [80, 1.66],\n",
        "    \"person4\": [80, 1.79],\n",
        "    \"person5\": [72, 1.60]\n",
        "}"
      ],
      "metadata": {
        "id": "j3mq5oahIcX6"
      },
      "id": "j3mq5oahIcX6",
      "execution_count": 103,
      "outputs": []
    },
    {
      "cell_type": "code",
      "source": [
        "for person, (weight, height) in persons.items():\n",
        "    result = bmi(weight, height)\n",
        "    print(\"bmi\", person, \"=\", int(result))"
      ],
      "metadata": {
        "colab": {
          "base_uri": "https://localhost:8080/"
        },
        "id": "P3UdMyXaJCMd",
        "outputId": "3e6d99e2-f98a-46cb-b0be-c22c989e365a"
      },
      "id": "P3UdMyXaJCMd",
      "execution_count": 111,
      "outputs": [
        {
          "output_type": "stream",
          "name": "stdout",
          "text": [
            "bmi person1 = 30\n",
            "bmi person2 = 29\n",
            "bmi person3 = 29\n",
            "bmi person4 = 24\n",
            "bmi person5 = 28\n"
          ]
        }
      ]
    }
  ],
  "metadata": {
    "kernelspec": {
      "display_name": "Python 3 (ipykernel)",
      "language": "python",
      "name": "python3"
    },
    "language_info": {
      "codemirror_mode": {
        "name": "ipython",
        "version": 3
      },
      "file_extension": ".py",
      "mimetype": "text/x-python",
      "name": "python",
      "nbconvert_exporter": "python",
      "pygments_lexer": "ipython3",
      "version": "3.10.4"
    },
    "toc": {
      "base_numbering": 1,
      "nav_menu": {},
      "number_sections": true,
      "sideBar": true,
      "skip_h1_title": false,
      "title_cell": "Table of Contents",
      "title_sidebar": "Contents",
      "toc_cell": false,
      "toc_position": {},
      "toc_section_display": true,
      "toc_window_display": false
    },
    "colab": {
      "provenance": []
    }
  },
  "nbformat": 4,
  "nbformat_minor": 5
}